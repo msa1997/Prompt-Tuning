{
  "metadata": {
    "colab": {
      "provenance": [],
      "toc_visible": true,
      "gpuType": "T4",
      "include_colab_link": true
    },
    "kernelspec": {
      "name": "python3",
      "display_name": "Python 3",
      "language": "python"
    },
    "language_info": {
      "name": "python",
      "version": "3.10.14",
      "mimetype": "text/x-python",
      "codemirror_mode": {
        "name": "ipython",
        "version": 3
      },
      "pygments_lexer": "ipython3",
      "nbconvert_exporter": "python",
      "file_extension": ".py"
    },
    "accelerator": "GPU",
    "widgets": {
      "application/vnd.jupyter.widget-state+json": {
        "62329b6a550b4dbebecf61fb30b078f1": {
          "model_module": "@jupyter-widgets/controls",
          "model_name": "HBoxModel",
          "model_module_version": "1.5.0",
          "state": {
            "_dom_classes": [],
            "_model_module": "@jupyter-widgets/controls",
            "_model_module_version": "1.5.0",
            "_model_name": "HBoxModel",
            "_view_count": null,
            "_view_module": "@jupyter-widgets/controls",
            "_view_module_version": "1.5.0",
            "_view_name": "HBoxView",
            "box_style": "",
            "children": [
              "IPY_MODEL_b5423434d30940aca50f5386f0eb44ae",
              "IPY_MODEL_150a2e9f1e6d46fcbb6b157a2e0063b0",
              "IPY_MODEL_2625cda843ff4b21b86dcedee510e931"
            ],
            "layout": "IPY_MODEL_1dc4174b67e14dab8a1f24076e6ed1b1"
          }
        },
        "b5423434d30940aca50f5386f0eb44ae": {
          "model_module": "@jupyter-widgets/controls",
          "model_name": "HTMLModel",
          "model_module_version": "1.5.0",
          "state": {
            "_dom_classes": [],
            "_model_module": "@jupyter-widgets/controls",
            "_model_module_version": "1.5.0",
            "_model_name": "HTMLModel",
            "_view_count": null,
            "_view_module": "@jupyter-widgets/controls",
            "_view_module_version": "1.5.0",
            "_view_name": "HTMLView",
            "description": "",
            "description_tooltip": null,
            "layout": "IPY_MODEL_e01b097b721449f3afbfd4a668afa841",
            "placeholder": "​",
            "style": "IPY_MODEL_e55a5e71b7234373b9a6cf7bb9bf64d5",
            "value": "Map: 100%"
          }
        },
        "150a2e9f1e6d46fcbb6b157a2e0063b0": {
          "model_module": "@jupyter-widgets/controls",
          "model_name": "FloatProgressModel",
          "model_module_version": "1.5.0",
          "state": {
            "_dom_classes": [],
            "_model_module": "@jupyter-widgets/controls",
            "_model_module_version": "1.5.0",
            "_model_name": "FloatProgressModel",
            "_view_count": null,
            "_view_module": "@jupyter-widgets/controls",
            "_view_module_version": "1.5.0",
            "_view_name": "ProgressView",
            "bar_style": "success",
            "description": "",
            "description_tooltip": null,
            "layout": "IPY_MODEL_7e83dd50672a42c8952af1190933b593",
            "max": 25000,
            "min": 0,
            "orientation": "horizontal",
            "style": "IPY_MODEL_913b84cd6df143049572e00aff85021a",
            "value": 25000
          }
        },
        "2625cda843ff4b21b86dcedee510e931": {
          "model_module": "@jupyter-widgets/controls",
          "model_name": "HTMLModel",
          "model_module_version": "1.5.0",
          "state": {
            "_dom_classes": [],
            "_model_module": "@jupyter-widgets/controls",
            "_model_module_version": "1.5.0",
            "_model_name": "HTMLModel",
            "_view_count": null,
            "_view_module": "@jupyter-widgets/controls",
            "_view_module_version": "1.5.0",
            "_view_name": "HTMLView",
            "description": "",
            "description_tooltip": null,
            "layout": "IPY_MODEL_36d82ca4690c4c1fa358192e35a3d7cf",
            "placeholder": "​",
            "style": "IPY_MODEL_d13332a6096d46809e380144f261d261",
            "value": " 25000/25000 [00:05&lt;00:00, 5376.79 examples/s]"
          }
        },
        "1dc4174b67e14dab8a1f24076e6ed1b1": {
          "model_module": "@jupyter-widgets/base",
          "model_name": "LayoutModel",
          "model_module_version": "1.2.0",
          "state": {
            "_model_module": "@jupyter-widgets/base",
            "_model_module_version": "1.2.0",
            "_model_name": "LayoutModel",
            "_view_count": null,
            "_view_module": "@jupyter-widgets/base",
            "_view_module_version": "1.2.0",
            "_view_name": "LayoutView",
            "align_content": null,
            "align_items": null,
            "align_self": null,
            "border": null,
            "bottom": null,
            "display": null,
            "flex": null,
            "flex_flow": null,
            "grid_area": null,
            "grid_auto_columns": null,
            "grid_auto_flow": null,
            "grid_auto_rows": null,
            "grid_column": null,
            "grid_gap": null,
            "grid_row": null,
            "grid_template_areas": null,
            "grid_template_columns": null,
            "grid_template_rows": null,
            "height": null,
            "justify_content": null,
            "justify_items": null,
            "left": null,
            "margin": null,
            "max_height": null,
            "max_width": null,
            "min_height": null,
            "min_width": null,
            "object_fit": null,
            "object_position": null,
            "order": null,
            "overflow": null,
            "overflow_x": null,
            "overflow_y": null,
            "padding": null,
            "right": null,
            "top": null,
            "visibility": null,
            "width": null
          }
        },
        "e01b097b721449f3afbfd4a668afa841": {
          "model_module": "@jupyter-widgets/base",
          "model_name": "LayoutModel",
          "model_module_version": "1.2.0",
          "state": {
            "_model_module": "@jupyter-widgets/base",
            "_model_module_version": "1.2.0",
            "_model_name": "LayoutModel",
            "_view_count": null,
            "_view_module": "@jupyter-widgets/base",
            "_view_module_version": "1.2.0",
            "_view_name": "LayoutView",
            "align_content": null,
            "align_items": null,
            "align_self": null,
            "border": null,
            "bottom": null,
            "display": null,
            "flex": null,
            "flex_flow": null,
            "grid_area": null,
            "grid_auto_columns": null,
            "grid_auto_flow": null,
            "grid_auto_rows": null,
            "grid_column": null,
            "grid_gap": null,
            "grid_row": null,
            "grid_template_areas": null,
            "grid_template_columns": null,
            "grid_template_rows": null,
            "height": null,
            "justify_content": null,
            "justify_items": null,
            "left": null,
            "margin": null,
            "max_height": null,
            "max_width": null,
            "min_height": null,
            "min_width": null,
            "object_fit": null,
            "object_position": null,
            "order": null,
            "overflow": null,
            "overflow_x": null,
            "overflow_y": null,
            "padding": null,
            "right": null,
            "top": null,
            "visibility": null,
            "width": null
          }
        },
        "e55a5e71b7234373b9a6cf7bb9bf64d5": {
          "model_module": "@jupyter-widgets/controls",
          "model_name": "DescriptionStyleModel",
          "model_module_version": "1.5.0",
          "state": {
            "_model_module": "@jupyter-widgets/controls",
            "_model_module_version": "1.5.0",
            "_model_name": "DescriptionStyleModel",
            "_view_count": null,
            "_view_module": "@jupyter-widgets/base",
            "_view_module_version": "1.2.0",
            "_view_name": "StyleView",
            "description_width": ""
          }
        },
        "7e83dd50672a42c8952af1190933b593": {
          "model_module": "@jupyter-widgets/base",
          "model_name": "LayoutModel",
          "model_module_version": "1.2.0",
          "state": {
            "_model_module": "@jupyter-widgets/base",
            "_model_module_version": "1.2.0",
            "_model_name": "LayoutModel",
            "_view_count": null,
            "_view_module": "@jupyter-widgets/base",
            "_view_module_version": "1.2.0",
            "_view_name": "LayoutView",
            "align_content": null,
            "align_items": null,
            "align_self": null,
            "border": null,
            "bottom": null,
            "display": null,
            "flex": null,
            "flex_flow": null,
            "grid_area": null,
            "grid_auto_columns": null,
            "grid_auto_flow": null,
            "grid_auto_rows": null,
            "grid_column": null,
            "grid_gap": null,
            "grid_row": null,
            "grid_template_areas": null,
            "grid_template_columns": null,
            "grid_template_rows": null,
            "height": null,
            "justify_content": null,
            "justify_items": null,
            "left": null,
            "margin": null,
            "max_height": null,
            "max_width": null,
            "min_height": null,
            "min_width": null,
            "object_fit": null,
            "object_position": null,
            "order": null,
            "overflow": null,
            "overflow_x": null,
            "overflow_y": null,
            "padding": null,
            "right": null,
            "top": null,
            "visibility": null,
            "width": null
          }
        },
        "913b84cd6df143049572e00aff85021a": {
          "model_module": "@jupyter-widgets/controls",
          "model_name": "ProgressStyleModel",
          "model_module_version": "1.5.0",
          "state": {
            "_model_module": "@jupyter-widgets/controls",
            "_model_module_version": "1.5.0",
            "_model_name": "ProgressStyleModel",
            "_view_count": null,
            "_view_module": "@jupyter-widgets/base",
            "_view_module_version": "1.2.0",
            "_view_name": "StyleView",
            "bar_color": null,
            "description_width": ""
          }
        },
        "36d82ca4690c4c1fa358192e35a3d7cf": {
          "model_module": "@jupyter-widgets/base",
          "model_name": "LayoutModel",
          "model_module_version": "1.2.0",
          "state": {
            "_model_module": "@jupyter-widgets/base",
            "_model_module_version": "1.2.0",
            "_model_name": "LayoutModel",
            "_view_count": null,
            "_view_module": "@jupyter-widgets/base",
            "_view_module_version": "1.2.0",
            "_view_name": "LayoutView",
            "align_content": null,
            "align_items": null,
            "align_self": null,
            "border": null,
            "bottom": null,
            "display": null,
            "flex": null,
            "flex_flow": null,
            "grid_area": null,
            "grid_auto_columns": null,
            "grid_auto_flow": null,
            "grid_auto_rows": null,
            "grid_column": null,
            "grid_gap": null,
            "grid_row": null,
            "grid_template_areas": null,
            "grid_template_columns": null,
            "grid_template_rows": null,
            "height": null,
            "justify_content": null,
            "justify_items": null,
            "left": null,
            "margin": null,
            "max_height": null,
            "max_width": null,
            "min_height": null,
            "min_width": null,
            "object_fit": null,
            "object_position": null,
            "order": null,
            "overflow": null,
            "overflow_x": null,
            "overflow_y": null,
            "padding": null,
            "right": null,
            "top": null,
            "visibility": null,
            "width": null
          }
        },
        "d13332a6096d46809e380144f261d261": {
          "model_module": "@jupyter-widgets/controls",
          "model_name": "DescriptionStyleModel",
          "model_module_version": "1.5.0",
          "state": {
            "_model_module": "@jupyter-widgets/controls",
            "_model_module_version": "1.5.0",
            "_model_name": "DescriptionStyleModel",
            "_view_count": null,
            "_view_module": "@jupyter-widgets/base",
            "_view_module_version": "1.2.0",
            "_view_name": "StyleView",
            "description_width": ""
          }
        },
        "7382237aadf54b41a2ad158cb2192f32": {
          "model_module": "@jupyter-widgets/controls",
          "model_name": "HBoxModel",
          "model_module_version": "1.5.0",
          "state": {
            "_dom_classes": [],
            "_model_module": "@jupyter-widgets/controls",
            "_model_module_version": "1.5.0",
            "_model_name": "HBoxModel",
            "_view_count": null,
            "_view_module": "@jupyter-widgets/controls",
            "_view_module_version": "1.5.0",
            "_view_name": "HBoxView",
            "box_style": "",
            "children": [
              "IPY_MODEL_84c78726ce5345b9941ca8342393bdc0",
              "IPY_MODEL_8b58d4543d0749ac8c99c9f13d9591ec",
              "IPY_MODEL_394986226d354f3087cacbdd1d2c025d"
            ],
            "layout": "IPY_MODEL_b22fa87e7c9444988d1491030ee395d3"
          }
        },
        "84c78726ce5345b9941ca8342393bdc0": {
          "model_module": "@jupyter-widgets/controls",
          "model_name": "HTMLModel",
          "model_module_version": "1.5.0",
          "state": {
            "_dom_classes": [],
            "_model_module": "@jupyter-widgets/controls",
            "_model_module_version": "1.5.0",
            "_model_name": "HTMLModel",
            "_view_count": null,
            "_view_module": "@jupyter-widgets/controls",
            "_view_module_version": "1.5.0",
            "_view_name": "HTMLView",
            "description": "",
            "description_tooltip": null,
            "layout": "IPY_MODEL_66fef1b6718f4b3bac5ed10c368d379d",
            "placeholder": "​",
            "style": "IPY_MODEL_e0b8688e16234da6bb6d1e6652219266",
            "value": "Map: 100%"
          }
        },
        "8b58d4543d0749ac8c99c9f13d9591ec": {
          "model_module": "@jupyter-widgets/controls",
          "model_name": "FloatProgressModel",
          "model_module_version": "1.5.0",
          "state": {
            "_dom_classes": [],
            "_model_module": "@jupyter-widgets/controls",
            "_model_module_version": "1.5.0",
            "_model_name": "FloatProgressModel",
            "_view_count": null,
            "_view_module": "@jupyter-widgets/controls",
            "_view_module_version": "1.5.0",
            "_view_name": "ProgressView",
            "bar_style": "success",
            "description": "",
            "description_tooltip": null,
            "layout": "IPY_MODEL_97454292501040209f912177c28a3252",
            "max": 25000,
            "min": 0,
            "orientation": "horizontal",
            "style": "IPY_MODEL_f8d0482d99b4421caa4259eadec174c4",
            "value": 25000
          }
        },
        "394986226d354f3087cacbdd1d2c025d": {
          "model_module": "@jupyter-widgets/controls",
          "model_name": "HTMLModel",
          "model_module_version": "1.5.0",
          "state": {
            "_dom_classes": [],
            "_model_module": "@jupyter-widgets/controls",
            "_model_module_version": "1.5.0",
            "_model_name": "HTMLModel",
            "_view_count": null,
            "_view_module": "@jupyter-widgets/controls",
            "_view_module_version": "1.5.0",
            "_view_name": "HTMLView",
            "description": "",
            "description_tooltip": null,
            "layout": "IPY_MODEL_1fce076e163748b6b3b2b41721c73873",
            "placeholder": "​",
            "style": "IPY_MODEL_dc934a59be8f444281562bf4c5d6756d",
            "value": " 25000/25000 [00:04&lt;00:00, 7029.69 examples/s]"
          }
        },
        "b22fa87e7c9444988d1491030ee395d3": {
          "model_module": "@jupyter-widgets/base",
          "model_name": "LayoutModel",
          "model_module_version": "1.2.0",
          "state": {
            "_model_module": "@jupyter-widgets/base",
            "_model_module_version": "1.2.0",
            "_model_name": "LayoutModel",
            "_view_count": null,
            "_view_module": "@jupyter-widgets/base",
            "_view_module_version": "1.2.0",
            "_view_name": "LayoutView",
            "align_content": null,
            "align_items": null,
            "align_self": null,
            "border": null,
            "bottom": null,
            "display": null,
            "flex": null,
            "flex_flow": null,
            "grid_area": null,
            "grid_auto_columns": null,
            "grid_auto_flow": null,
            "grid_auto_rows": null,
            "grid_column": null,
            "grid_gap": null,
            "grid_row": null,
            "grid_template_areas": null,
            "grid_template_columns": null,
            "grid_template_rows": null,
            "height": null,
            "justify_content": null,
            "justify_items": null,
            "left": null,
            "margin": null,
            "max_height": null,
            "max_width": null,
            "min_height": null,
            "min_width": null,
            "object_fit": null,
            "object_position": null,
            "order": null,
            "overflow": null,
            "overflow_x": null,
            "overflow_y": null,
            "padding": null,
            "right": null,
            "top": null,
            "visibility": null,
            "width": null
          }
        },
        "66fef1b6718f4b3bac5ed10c368d379d": {
          "model_module": "@jupyter-widgets/base",
          "model_name": "LayoutModel",
          "model_module_version": "1.2.0",
          "state": {
            "_model_module": "@jupyter-widgets/base",
            "_model_module_version": "1.2.0",
            "_model_name": "LayoutModel",
            "_view_count": null,
            "_view_module": "@jupyter-widgets/base",
            "_view_module_version": "1.2.0",
            "_view_name": "LayoutView",
            "align_content": null,
            "align_items": null,
            "align_self": null,
            "border": null,
            "bottom": null,
            "display": null,
            "flex": null,
            "flex_flow": null,
            "grid_area": null,
            "grid_auto_columns": null,
            "grid_auto_flow": null,
            "grid_auto_rows": null,
            "grid_column": null,
            "grid_gap": null,
            "grid_row": null,
            "grid_template_areas": null,
            "grid_template_columns": null,
            "grid_template_rows": null,
            "height": null,
            "justify_content": null,
            "justify_items": null,
            "left": null,
            "margin": null,
            "max_height": null,
            "max_width": null,
            "min_height": null,
            "min_width": null,
            "object_fit": null,
            "object_position": null,
            "order": null,
            "overflow": null,
            "overflow_x": null,
            "overflow_y": null,
            "padding": null,
            "right": null,
            "top": null,
            "visibility": null,
            "width": null
          }
        },
        "e0b8688e16234da6bb6d1e6652219266": {
          "model_module": "@jupyter-widgets/controls",
          "model_name": "DescriptionStyleModel",
          "model_module_version": "1.5.0",
          "state": {
            "_model_module": "@jupyter-widgets/controls",
            "_model_module_version": "1.5.0",
            "_model_name": "DescriptionStyleModel",
            "_view_count": null,
            "_view_module": "@jupyter-widgets/base",
            "_view_module_version": "1.2.0",
            "_view_name": "StyleView",
            "description_width": ""
          }
        },
        "97454292501040209f912177c28a3252": {
          "model_module": "@jupyter-widgets/base",
          "model_name": "LayoutModel",
          "model_module_version": "1.2.0",
          "state": {
            "_model_module": "@jupyter-widgets/base",
            "_model_module_version": "1.2.0",
            "_model_name": "LayoutModel",
            "_view_count": null,
            "_view_module": "@jupyter-widgets/base",
            "_view_module_version": "1.2.0",
            "_view_name": "LayoutView",
            "align_content": null,
            "align_items": null,
            "align_self": null,
            "border": null,
            "bottom": null,
            "display": null,
            "flex": null,
            "flex_flow": null,
            "grid_area": null,
            "grid_auto_columns": null,
            "grid_auto_flow": null,
            "grid_auto_rows": null,
            "grid_column": null,
            "grid_gap": null,
            "grid_row": null,
            "grid_template_areas": null,
            "grid_template_columns": null,
            "grid_template_rows": null,
            "height": null,
            "justify_content": null,
            "justify_items": null,
            "left": null,
            "margin": null,
            "max_height": null,
            "max_width": null,
            "min_height": null,
            "min_width": null,
            "object_fit": null,
            "object_position": null,
            "order": null,
            "overflow": null,
            "overflow_x": null,
            "overflow_y": null,
            "padding": null,
            "right": null,
            "top": null,
            "visibility": null,
            "width": null
          }
        },
        "f8d0482d99b4421caa4259eadec174c4": {
          "model_module": "@jupyter-widgets/controls",
          "model_name": "ProgressStyleModel",
          "model_module_version": "1.5.0",
          "state": {
            "_model_module": "@jupyter-widgets/controls",
            "_model_module_version": "1.5.0",
            "_model_name": "ProgressStyleModel",
            "_view_count": null,
            "_view_module": "@jupyter-widgets/base",
            "_view_module_version": "1.2.0",
            "_view_name": "StyleView",
            "bar_color": null,
            "description_width": ""
          }
        },
        "1fce076e163748b6b3b2b41721c73873": {
          "model_module": "@jupyter-widgets/base",
          "model_name": "LayoutModel",
          "model_module_version": "1.2.0",
          "state": {
            "_model_module": "@jupyter-widgets/base",
            "_model_module_version": "1.2.0",
            "_model_name": "LayoutModel",
            "_view_count": null,
            "_view_module": "@jupyter-widgets/base",
            "_view_module_version": "1.2.0",
            "_view_name": "LayoutView",
            "align_content": null,
            "align_items": null,
            "align_self": null,
            "border": null,
            "bottom": null,
            "display": null,
            "flex": null,
            "flex_flow": null,
            "grid_area": null,
            "grid_auto_columns": null,
            "grid_auto_flow": null,
            "grid_auto_rows": null,
            "grid_column": null,
            "grid_gap": null,
            "grid_row": null,
            "grid_template_areas": null,
            "grid_template_columns": null,
            "grid_template_rows": null,
            "height": null,
            "justify_content": null,
            "justify_items": null,
            "left": null,
            "margin": null,
            "max_height": null,
            "max_width": null,
            "min_height": null,
            "min_width": null,
            "object_fit": null,
            "object_position": null,
            "order": null,
            "overflow": null,
            "overflow_x": null,
            "overflow_y": null,
            "padding": null,
            "right": null,
            "top": null,
            "visibility": null,
            "width": null
          }
        },
        "dc934a59be8f444281562bf4c5d6756d": {
          "model_module": "@jupyter-widgets/controls",
          "model_name": "DescriptionStyleModel",
          "model_module_version": "1.5.0",
          "state": {
            "_model_module": "@jupyter-widgets/controls",
            "_model_module_version": "1.5.0",
            "_model_name": "DescriptionStyleModel",
            "_view_count": null,
            "_view_module": "@jupyter-widgets/base",
            "_view_module_version": "1.2.0",
            "_view_name": "StyleView",
            "description_width": ""
          }
        },
        "d0352e2c503f49758b35da4346348984": {
          "model_module": "@jupyter-widgets/controls",
          "model_name": "HBoxModel",
          "model_module_version": "1.5.0",
          "state": {
            "_dom_classes": [],
            "_model_module": "@jupyter-widgets/controls",
            "_model_module_version": "1.5.0",
            "_model_name": "HBoxModel",
            "_view_count": null,
            "_view_module": "@jupyter-widgets/controls",
            "_view_module_version": "1.5.0",
            "_view_name": "HBoxView",
            "box_style": "",
            "children": [
              "IPY_MODEL_ade13464fade40d281c8125182c81a5c",
              "IPY_MODEL_bb2da7f34cc948f8abc701b62cbf3af0",
              "IPY_MODEL_94aeb69e093a4f62a302d7c724cc61f6"
            ],
            "layout": "IPY_MODEL_413968ce08f94c99822180df5a501150"
          }
        },
        "ade13464fade40d281c8125182c81a5c": {
          "model_module": "@jupyter-widgets/controls",
          "model_name": "HTMLModel",
          "model_module_version": "1.5.0",
          "state": {
            "_dom_classes": [],
            "_model_module": "@jupyter-widgets/controls",
            "_model_module_version": "1.5.0",
            "_model_name": "HTMLModel",
            "_view_count": null,
            "_view_module": "@jupyter-widgets/controls",
            "_view_module_version": "1.5.0",
            "_view_name": "HTMLView",
            "description": "",
            "description_tooltip": null,
            "layout": "IPY_MODEL_b992629053fb4cff9d7d9aba1807a0c4",
            "placeholder": "​",
            "style": "IPY_MODEL_b338099d8784407a9eb787d71aec83f9",
            "value": "Evaluating:  22%"
          }
        },
        "bb2da7f34cc948f8abc701b62cbf3af0": {
          "model_module": "@jupyter-widgets/controls",
          "model_name": "FloatProgressModel",
          "model_module_version": "1.5.0",
          "state": {
            "_dom_classes": [],
            "_model_module": "@jupyter-widgets/controls",
            "_model_module_version": "1.5.0",
            "_model_name": "FloatProgressModel",
            "_view_count": null,
            "_view_module": "@jupyter-widgets/controls",
            "_view_module_version": "1.5.0",
            "_view_name": "ProgressView",
            "bar_style": "",
            "description": "",
            "description_tooltip": null,
            "layout": "IPY_MODEL_741e6859faf54ddcb64ea4a8ce9bb0b9",
            "max": 782,
            "min": 0,
            "orientation": "horizontal",
            "style": "IPY_MODEL_88c6799d07574b53bffd6b6794db757c",
            "value": 172
          }
        },
        "94aeb69e093a4f62a302d7c724cc61f6": {
          "model_module": "@jupyter-widgets/controls",
          "model_name": "HTMLModel",
          "model_module_version": "1.5.0",
          "state": {
            "_dom_classes": [],
            "_model_module": "@jupyter-widgets/controls",
            "_model_module_version": "1.5.0",
            "_model_name": "HTMLModel",
            "_view_count": null,
            "_view_module": "@jupyter-widgets/controls",
            "_view_module_version": "1.5.0",
            "_view_name": "HTMLView",
            "description": "",
            "description_tooltip": null,
            "layout": "IPY_MODEL_e959f3b461a94404ab013db8f8e9ee97",
            "placeholder": "​",
            "style": "IPY_MODEL_35be21d92bd34bbbb46cac49473c1701",
            "value": " 171/782 [08:18&lt;28:28,  2.80s/it]"
          }
        },
        "413968ce08f94c99822180df5a501150": {
          "model_module": "@jupyter-widgets/base",
          "model_name": "LayoutModel",
          "model_module_version": "1.2.0",
          "state": {
            "_model_module": "@jupyter-widgets/base",
            "_model_module_version": "1.2.0",
            "_model_name": "LayoutModel",
            "_view_count": null,
            "_view_module": "@jupyter-widgets/base",
            "_view_module_version": "1.2.0",
            "_view_name": "LayoutView",
            "align_content": null,
            "align_items": null,
            "align_self": null,
            "border": null,
            "bottom": null,
            "display": null,
            "flex": null,
            "flex_flow": null,
            "grid_area": null,
            "grid_auto_columns": null,
            "grid_auto_flow": null,
            "grid_auto_rows": null,
            "grid_column": null,
            "grid_gap": null,
            "grid_row": null,
            "grid_template_areas": null,
            "grid_template_columns": null,
            "grid_template_rows": null,
            "height": null,
            "justify_content": null,
            "justify_items": null,
            "left": null,
            "margin": null,
            "max_height": null,
            "max_width": null,
            "min_height": null,
            "min_width": null,
            "object_fit": null,
            "object_position": null,
            "order": null,
            "overflow": null,
            "overflow_x": null,
            "overflow_y": null,
            "padding": null,
            "right": null,
            "top": null,
            "visibility": null,
            "width": null
          }
        },
        "b992629053fb4cff9d7d9aba1807a0c4": {
          "model_module": "@jupyter-widgets/base",
          "model_name": "LayoutModel",
          "model_module_version": "1.2.0",
          "state": {
            "_model_module": "@jupyter-widgets/base",
            "_model_module_version": "1.2.0",
            "_model_name": "LayoutModel",
            "_view_count": null,
            "_view_module": "@jupyter-widgets/base",
            "_view_module_version": "1.2.0",
            "_view_name": "LayoutView",
            "align_content": null,
            "align_items": null,
            "align_self": null,
            "border": null,
            "bottom": null,
            "display": null,
            "flex": null,
            "flex_flow": null,
            "grid_area": null,
            "grid_auto_columns": null,
            "grid_auto_flow": null,
            "grid_auto_rows": null,
            "grid_column": null,
            "grid_gap": null,
            "grid_row": null,
            "grid_template_areas": null,
            "grid_template_columns": null,
            "grid_template_rows": null,
            "height": null,
            "justify_content": null,
            "justify_items": null,
            "left": null,
            "margin": null,
            "max_height": null,
            "max_width": null,
            "min_height": null,
            "min_width": null,
            "object_fit": null,
            "object_position": null,
            "order": null,
            "overflow": null,
            "overflow_x": null,
            "overflow_y": null,
            "padding": null,
            "right": null,
            "top": null,
            "visibility": null,
            "width": null
          }
        },
        "b338099d8784407a9eb787d71aec83f9": {
          "model_module": "@jupyter-widgets/controls",
          "model_name": "DescriptionStyleModel",
          "model_module_version": "1.5.0",
          "state": {
            "_model_module": "@jupyter-widgets/controls",
            "_model_module_version": "1.5.0",
            "_model_name": "DescriptionStyleModel",
            "_view_count": null,
            "_view_module": "@jupyter-widgets/base",
            "_view_module_version": "1.2.0",
            "_view_name": "StyleView",
            "description_width": ""
          }
        },
        "741e6859faf54ddcb64ea4a8ce9bb0b9": {
          "model_module": "@jupyter-widgets/base",
          "model_name": "LayoutModel",
          "model_module_version": "1.2.0",
          "state": {
            "_model_module": "@jupyter-widgets/base",
            "_model_module_version": "1.2.0",
            "_model_name": "LayoutModel",
            "_view_count": null,
            "_view_module": "@jupyter-widgets/base",
            "_view_module_version": "1.2.0",
            "_view_name": "LayoutView",
            "align_content": null,
            "align_items": null,
            "align_self": null,
            "border": null,
            "bottom": null,
            "display": null,
            "flex": null,
            "flex_flow": null,
            "grid_area": null,
            "grid_auto_columns": null,
            "grid_auto_flow": null,
            "grid_auto_rows": null,
            "grid_column": null,
            "grid_gap": null,
            "grid_row": null,
            "grid_template_areas": null,
            "grid_template_columns": null,
            "grid_template_rows": null,
            "height": null,
            "justify_content": null,
            "justify_items": null,
            "left": null,
            "margin": null,
            "max_height": null,
            "max_width": null,
            "min_height": null,
            "min_width": null,
            "object_fit": null,
            "object_position": null,
            "order": null,
            "overflow": null,
            "overflow_x": null,
            "overflow_y": null,
            "padding": null,
            "right": null,
            "top": null,
            "visibility": null,
            "width": null
          }
        },
        "88c6799d07574b53bffd6b6794db757c": {
          "model_module": "@jupyter-widgets/controls",
          "model_name": "ProgressStyleModel",
          "model_module_version": "1.5.0",
          "state": {
            "_model_module": "@jupyter-widgets/controls",
            "_model_module_version": "1.5.0",
            "_model_name": "ProgressStyleModel",
            "_view_count": null,
            "_view_module": "@jupyter-widgets/base",
            "_view_module_version": "1.2.0",
            "_view_name": "StyleView",
            "bar_color": null,
            "description_width": ""
          }
        },
        "e959f3b461a94404ab013db8f8e9ee97": {
          "model_module": "@jupyter-widgets/base",
          "model_name": "LayoutModel",
          "model_module_version": "1.2.0",
          "state": {
            "_model_module": "@jupyter-widgets/base",
            "_model_module_version": "1.2.0",
            "_model_name": "LayoutModel",
            "_view_count": null,
            "_view_module": "@jupyter-widgets/base",
            "_view_module_version": "1.2.0",
            "_view_name": "LayoutView",
            "align_content": null,
            "align_items": null,
            "align_self": null,
            "border": null,
            "bottom": null,
            "display": null,
            "flex": null,
            "flex_flow": null,
            "grid_area": null,
            "grid_auto_columns": null,
            "grid_auto_flow": null,
            "grid_auto_rows": null,
            "grid_column": null,
            "grid_gap": null,
            "grid_row": null,
            "grid_template_areas": null,
            "grid_template_columns": null,
            "grid_template_rows": null,
            "height": null,
            "justify_content": null,
            "justify_items": null,
            "left": null,
            "margin": null,
            "max_height": null,
            "max_width": null,
            "min_height": null,
            "min_width": null,
            "object_fit": null,
            "object_position": null,
            "order": null,
            "overflow": null,
            "overflow_x": null,
            "overflow_y": null,
            "padding": null,
            "right": null,
            "top": null,
            "visibility": null,
            "width": null
          }
        },
        "35be21d92bd34bbbb46cac49473c1701": {
          "model_module": "@jupyter-widgets/controls",
          "model_name": "DescriptionStyleModel",
          "model_module_version": "1.5.0",
          "state": {
            "_model_module": "@jupyter-widgets/controls",
            "_model_module_version": "1.5.0",
            "_model_name": "DescriptionStyleModel",
            "_view_count": null,
            "_view_module": "@jupyter-widgets/base",
            "_view_module_version": "1.2.0",
            "_view_name": "StyleView",
            "description_width": ""
          }
        }
      }
    },
    "kaggle": {
      "accelerator": "gpu",
      "dataSources": [],
      "dockerImageVersionId": 30787,
      "isInternetEnabled": true,
      "language": "python",
      "sourceType": "notebook",
      "isGpuEnabled": true
    }
  },
  "nbformat_minor": 0,
  "nbformat": 4,
  "cells": [
    {
      "cell_type": "markdown",
      "metadata": {
        "id": "view-in-github",
        "colab_type": "text"
      },
      "source": [
        "<a href=\"https://colab.research.google.com/github/msa1997/Prompt-Tuning/blob/main/t5_prompt_tuning.ipynb\" target=\"_parent\"><img src=\"https://colab.research.google.com/assets/colab-badge.svg\" alt=\"Open In Colab\"/></a>"
      ]
    },
    {
      "cell_type": "markdown",
      "source": [
        "**Fine-tuning T5 with Soft Prompts for Sentiment Classification.**\n",
        "\n",
        " *  This version initializes the soft prompt with a specific sentence.\n",
        " *  The model is T5ForConditionalGeneration.\n",
        " *  The dataset is stanfordnlp/imdb.\n",
        "\n"
      ],
      "metadata": {
        "id": "4vzo1CXLYkGm"
      }
    },
    {
      "cell_type": "markdown",
      "source": [
        "# Library"
      ],
      "metadata": {
        "id": "H3WfP_8IX4kJ"
      }
    },
    {
      "cell_type": "markdown",
      "source": [
        "**Installing required library:**"
      ],
      "metadata": {
        "id": "OOGy7mUD-V4s"
      }
    },
    {
      "cell_type": "code",
      "source": [
        "!pip install datasets transformers torch tqdm matplotlib seaborn wandb"
      ],
      "metadata": {
        "colab": {
          "base_uri": "https://localhost:8080/"
        },
        "id": "pNQtlCLnJpCp",
        "outputId": "55cbfce0-cc10-4647-bece-4cab5c294db2",
        "execution": {
          "iopub.status.busy": "2024-11-05T14:14:23.312847Z",
          "iopub.execute_input": "2024-11-05T14:14:23.313531Z",
          "iopub.status.idle": "2024-11-05T14:14:36.720747Z",
          "shell.execute_reply.started": "2024-11-05T14:14:23.313491Z",
          "shell.execute_reply": "2024-11-05T14:14:36.719654Z"
        },
        "trusted": true
      },
      "execution_count": null,
      "outputs": [
        {
          "name": "stdout",
          "text": "Requirement already satisfied: datasets in /opt/conda/lib/python3.10/site-packages (3.0.1)\nRequirement already satisfied: transformers in /opt/conda/lib/python3.10/site-packages (4.45.1)\nRequirement already satisfied: torch in /opt/conda/lib/python3.10/site-packages (2.4.0)\nRequirement already satisfied: tqdm in /opt/conda/lib/python3.10/site-packages (4.66.4)\nRequirement already satisfied: matplotlib in /opt/conda/lib/python3.10/site-packages (3.7.5)\nRequirement already satisfied: seaborn in /opt/conda/lib/python3.10/site-packages (0.12.2)\nRequirement already satisfied: wandb in /opt/conda/lib/python3.10/site-packages (0.18.3)\nRequirement already satisfied: filelock in /opt/conda/lib/python3.10/site-packages (from datasets) (3.15.1)\nRequirement already satisfied: numpy>=1.17 in /opt/conda/lib/python3.10/site-packages (from datasets) (1.26.4)\nRequirement already satisfied: pyarrow>=15.0.0 in /opt/conda/lib/python3.10/site-packages (from datasets) (16.1.0)\nRequirement already satisfied: dill<0.3.9,>=0.3.0 in /opt/conda/lib/python3.10/site-packages (from datasets) (0.3.8)\nRequirement already satisfied: pandas in /opt/conda/lib/python3.10/site-packages (from datasets) (2.2.2)\nRequirement already satisfied: requests>=2.32.2 in /opt/conda/lib/python3.10/site-packages (from datasets) (2.32.3)\nRequirement already satisfied: xxhash in /opt/conda/lib/python3.10/site-packages (from datasets) (3.4.1)\nRequirement already satisfied: multiprocess in /opt/conda/lib/python3.10/site-packages (from datasets) (0.70.16)\nRequirement already satisfied: fsspec<=2024.6.1,>=2023.1.0 in /opt/conda/lib/python3.10/site-packages (from fsspec[http]<=2024.6.1,>=2023.1.0->datasets) (2024.6.1)\nRequirement already satisfied: aiohttp in /opt/conda/lib/python3.10/site-packages (from datasets) (3.9.5)\nRequirement already satisfied: huggingface-hub>=0.22.0 in /opt/conda/lib/python3.10/site-packages (from datasets) (0.25.1)\nRequirement already satisfied: packaging in /opt/conda/lib/python3.10/site-packages (from datasets) (21.3)\nRequirement already satisfied: pyyaml>=5.1 in /opt/conda/lib/python3.10/site-packages (from datasets) (6.0.2)\nRequirement already satisfied: regex!=2019.12.17 in /opt/conda/lib/python3.10/site-packages (from transformers) (2024.5.15)\nRequirement already satisfied: safetensors>=0.4.1 in /opt/conda/lib/python3.10/site-packages (from transformers) (0.4.5)\nRequirement already satisfied: tokenizers<0.21,>=0.20 in /opt/conda/lib/python3.10/site-packages (from transformers) (0.20.0)\nRequirement already satisfied: typing-extensions>=4.8.0 in /opt/conda/lib/python3.10/site-packages (from torch) (4.12.2)\nRequirement already satisfied: sympy in /opt/conda/lib/python3.10/site-packages (from torch) (1.13.3)\nRequirement already satisfied: networkx in /opt/conda/lib/python3.10/site-packages (from torch) (3.3)\nRequirement already satisfied: jinja2 in /opt/conda/lib/python3.10/site-packages (from torch) (3.1.4)\nRequirement already satisfied: contourpy>=1.0.1 in /opt/conda/lib/python3.10/site-packages (from matplotlib) (1.2.1)\nRequirement already satisfied: cycler>=0.10 in /opt/conda/lib/python3.10/site-packages (from matplotlib) (0.12.1)\nRequirement already satisfied: fonttools>=4.22.0 in /opt/conda/lib/python3.10/site-packages (from matplotlib) (4.53.0)\nRequirement already satisfied: kiwisolver>=1.0.1 in /opt/conda/lib/python3.10/site-packages (from matplotlib) (1.4.5)\nRequirement already satisfied: pillow>=6.2.0 in /opt/conda/lib/python3.10/site-packages (from matplotlib) (10.3.0)\nRequirement already satisfied: pyparsing>=2.3.1 in /opt/conda/lib/python3.10/site-packages (from matplotlib) (3.1.2)\nRequirement already satisfied: python-dateutil>=2.7 in /opt/conda/lib/python3.10/site-packages (from matplotlib) (2.9.0.post0)\nRequirement already satisfied: click!=8.0.0,>=7.1 in /opt/conda/lib/python3.10/site-packages (from wandb) (8.1.7)\nRequirement already satisfied: docker-pycreds>=0.4.0 in /opt/conda/lib/python3.10/site-packages (from wandb) (0.4.0)\nRequirement already satisfied: gitpython!=3.1.29,>=1.0.0 in /opt/conda/lib/python3.10/site-packages (from wandb) (3.1.43)\nRequirement already satisfied: platformdirs in /opt/conda/lib/python3.10/site-packages (from wandb) (3.11.0)\nRequirement already satisfied: protobuf!=4.21.0,!=5.28.0,<6,>=3.19.0 in /opt/conda/lib/python3.10/site-packages (from wandb) (3.20.3)\nRequirement already satisfied: psutil>=5.0.0 in /opt/conda/lib/python3.10/site-packages (from wandb) (5.9.3)\nRequirement already satisfied: sentry-sdk>=1.0.0 in /opt/conda/lib/python3.10/site-packages (from wandb) (2.15.0)\nRequirement already satisfied: setproctitle in /opt/conda/lib/python3.10/site-packages (from wandb) (1.3.3)\nRequirement already satisfied: setuptools in /opt/conda/lib/python3.10/site-packages (from wandb) (70.0.0)\nRequirement already satisfied: six>=1.4.0 in /opt/conda/lib/python3.10/site-packages (from docker-pycreds>=0.4.0->wandb) (1.16.0)\nRequirement already satisfied: aiosignal>=1.1.2 in /opt/conda/lib/python3.10/site-packages (from aiohttp->datasets) (1.3.1)\nRequirement already satisfied: attrs>=17.3.0 in /opt/conda/lib/python3.10/site-packages (from aiohttp->datasets) (23.2.0)\nRequirement already satisfied: frozenlist>=1.1.1 in /opt/conda/lib/python3.10/site-packages (from aiohttp->datasets) (1.4.1)\nRequirement already satisfied: multidict<7.0,>=4.5 in /opt/conda/lib/python3.10/site-packages (from aiohttp->datasets) (6.0.5)\nRequirement already satisfied: yarl<2.0,>=1.0 in /opt/conda/lib/python3.10/site-packages (from aiohttp->datasets) (1.9.4)\nRequirement already satisfied: async-timeout<5.0,>=4.0 in /opt/conda/lib/python3.10/site-packages (from aiohttp->datasets) (4.0.3)\nRequirement already satisfied: gitdb<5,>=4.0.1 in /opt/conda/lib/python3.10/site-packages (from gitpython!=3.1.29,>=1.0.0->wandb) (4.0.11)\nRequirement already satisfied: pytz>=2020.1 in /opt/conda/lib/python3.10/site-packages (from pandas->datasets) (2024.1)\nRequirement already satisfied: tzdata>=2022.7 in /opt/conda/lib/python3.10/site-packages (from pandas->datasets) (2024.1)\nRequirement already satisfied: charset-normalizer<4,>=2 in /opt/conda/lib/python3.10/site-packages (from requests>=2.32.2->datasets) (3.3.2)\nRequirement already satisfied: idna<4,>=2.5 in /opt/conda/lib/python3.10/site-packages (from requests>=2.32.2->datasets) (3.7)\nRequirement already satisfied: urllib3<3,>=1.21.1 in /opt/conda/lib/python3.10/site-packages (from requests>=2.32.2->datasets) (1.26.18)\nRequirement already satisfied: certifi>=2017.4.17 in /opt/conda/lib/python3.10/site-packages (from requests>=2.32.2->datasets) (2024.8.30)\nRequirement already satisfied: MarkupSafe>=2.0 in /opt/conda/lib/python3.10/site-packages (from jinja2->torch) (2.1.5)\nRequirement already satisfied: mpmath<1.4,>=1.1.0 in /opt/conda/lib/python3.10/site-packages (from sympy->torch) (1.3.0)\nRequirement already satisfied: smmap<6,>=3.0.1 in /opt/conda/lib/python3.10/site-packages (from gitdb<5,>=4.0.1->gitpython!=3.1.29,>=1.0.0->wandb) (5.0.1)\n",
          "output_type": "stream"
        }
      ]
    },
    {
      "cell_type": "markdown",
      "source": [
        "**Import all the needed library:**"
      ],
      "metadata": {
        "id": "To-LbteaX_KF"
      }
    },
    {
      "cell_type": "code",
      "source": [
        "import torch\n",
        "import torch.nn as nn\n",
        "from transformers import T5ForConditionalGeneration, T5Tokenizer, get_linear_schedule_with_warmup\n",
        "from datasets import load_dataset, ClassLabel\n",
        "from torch.utils.data import DataLoader, Dataset\n",
        "import numpy as np\n",
        "from tqdm.auto import tqdm\n",
        "import matplotlib.pyplot as plt\n",
        "import seaborn as sns\n",
        "import wandb"
      ],
      "metadata": {
        "id": "8d9m4uw5ItNI",
        "execution": {
          "iopub.status.busy": "2024-11-05T14:14:36.723279Z",
          "iopub.execute_input": "2024-11-05T14:14:36.724023Z",
          "iopub.status.idle": "2024-11-05T14:14:44.200901Z",
          "shell.execute_reply.started": "2024-11-05T14:14:36.723973Z",
          "shell.execute_reply": "2024-11-05T14:14:44.200147Z"
        },
        "trusted": true
      },
      "execution_count": null,
      "outputs": []
    },
    {
      "cell_type": "markdown",
      "source": [
        "#Config"
      ],
      "metadata": {
        "id": "2vIoj1j3YEaw"
      }
    },
    {
      "cell_type": "code",
      "source": [
        "# Configuration class\n",
        "class Config:\n",
        "    def __init__(self):\n",
        "        self.model_name = \"t5-small\"\n",
        "        self.dataset_name = \"imdb\"\n",
        "        self.prompt_text = \"Is the sentiment of this review positive or negative?\"  # Initial prompt text\n",
        "        self.max_len = 256\n",
        "        self.train_batch = 32\n",
        "        self.valid_batch = 32\n",
        "        self.epochs = 3\n",
        "        self.learning_rate = 1e-1\n",
        "        self.device = torch.device(\"cuda\" if torch.cuda.is_available() else \"cpu\")\n",
        "        self.tokenizer = T5Tokenizer.from_pretrained(self.model_name)\n",
        "        self.n_tokens = len(self.tokenizer(self.prompt_text)[\"input_ids\"]) # Calculate n_tokens based on prompt\n",
        "\n",
        "\n",
        "CONFIG = Config()"
      ],
      "metadata": {
        "id": "skDWd_5NIuFm",
        "execution": {
          "iopub.status.busy": "2024-11-05T14:30:32.512142Z",
          "iopub.execute_input": "2024-11-05T14:30:32.512584Z",
          "iopub.status.idle": "2024-11-05T14:30:32.933397Z",
          "shell.execute_reply.started": "2024-11-05T14:30:32.512547Z",
          "shell.execute_reply": "2024-11-05T14:30:32.932288Z"
        },
        "trusted": true
      },
      "execution_count": null,
      "outputs": []
    },
    {
      "cell_type": "markdown",
      "source": [
        "#Dataset"
      ],
      "metadata": {
        "id": "fGu6Yjs4YI6b"
      }
    },
    {
      "cell_type": "code",
      "source": [
        "# Load dataset\n",
        "dataset = load_dataset(CONFIG.dataset_name)\n",
        "\n",
        "# Define label mapping dictionary\n",
        "label_mapping = {0: \"negative\", 1: \"positive\"}\n",
        "\n",
        "if CONFIG.dataset_name == 'imdb':\n",
        "    train_dataset = dataset[\"train\"].shuffle().select(range(5000))  # Sample for testing\n",
        "    validation_dataset = dataset[\"test\"].shuffle().select(range(2000))  # Sample for testing\n",
        "    #train_dataset = dataset[\"train\"] # Sample for testing\n",
        "    #validation_dataset = dataset[\"test\"]  # Sample for testing\n",
        "\n",
        "    # Create a new `string_label` column based on the integer `label`\n",
        "    def preprocess_imdb(examples):\n",
        "        return {\n",
        "            'text': examples['text'],\n",
        "            'string_label': label_mapping[examples['label']]\n",
        "        }\n",
        "\n",
        "    # Apply the mapping to add `string_label` column without altering the existing `label` column\n",
        "    train_dataset = train_dataset.map(preprocess_imdb)\n",
        "    validation_dataset = validation_dataset.map(preprocess_imdb)\n",
        "\n"
      ],
      "metadata": {
        "colab": {
          "base_uri": "https://localhost:8080/",
          "height": 81,
          "referenced_widgets": [
            "62329b6a550b4dbebecf61fb30b078f1",
            "b5423434d30940aca50f5386f0eb44ae",
            "150a2e9f1e6d46fcbb6b157a2e0063b0",
            "2625cda843ff4b21b86dcedee510e931",
            "1dc4174b67e14dab8a1f24076e6ed1b1",
            "e01b097b721449f3afbfd4a668afa841",
            "e55a5e71b7234373b9a6cf7bb9bf64d5",
            "7e83dd50672a42c8952af1190933b593",
            "913b84cd6df143049572e00aff85021a",
            "36d82ca4690c4c1fa358192e35a3d7cf",
            "d13332a6096d46809e380144f261d261",
            "7382237aadf54b41a2ad158cb2192f32",
            "84c78726ce5345b9941ca8342393bdc0",
            "8b58d4543d0749ac8c99c9f13d9591ec",
            "394986226d354f3087cacbdd1d2c025d",
            "b22fa87e7c9444988d1491030ee395d3",
            "66fef1b6718f4b3bac5ed10c368d379d",
            "e0b8688e16234da6bb6d1e6652219266",
            "97454292501040209f912177c28a3252",
            "f8d0482d99b4421caa4259eadec174c4",
            "1fce076e163748b6b3b2b41721c73873",
            "dc934a59be8f444281562bf4c5d6756d",
            "85609df3a7934a6191569c0e255b57d4",
            "6fa7ac91d1dd435788afab135e221fab"
          ]
        },
        "id": "NiKx-LFlDfoy",
        "outputId": "c72e6d3d-6500-459c-dac5-1d8f412d248c",
        "execution": {
          "iopub.status.busy": "2024-11-05T14:30:33.592183Z",
          "iopub.execute_input": "2024-11-05T14:30:33.593197Z",
          "iopub.status.idle": "2024-11-05T14:30:35.566049Z",
          "shell.execute_reply.started": "2024-11-05T14:30:33.593157Z",
          "shell.execute_reply": "2024-11-05T14:30:35.565009Z"
        },
        "trusted": true
      },
      "execution_count": null,
      "outputs": [
        {
          "output_type": "display_data",
          "data": {
            "text/plain": "Map:   0%|          | 0/5000 [00:00<?, ? examples/s]",
            "application/vnd.jupyter.widget-view+json": {
              "version_major": 2,
              "version_minor": 0,
              "model_id": "85609df3a7934a6191569c0e255b57d4"
            }
          },
          "metadata": {}
        },
        {
          "output_type": "display_data",
          "data": {
            "text/plain": "Map:   0%|          | 0/2000 [00:00<?, ? examples/s]",
            "application/vnd.jupyter.widget-view+json": {
              "version_major": 2,
              "version_minor": 0,
              "model_id": "6fa7ac91d1dd435788afab135e221fab"
            }
          },
          "metadata": {}
        }
      ]
    },
    {
      "cell_type": "code",
      "source": [
        "# EDA - Distribution of sentiment labels\n",
        "sns.countplot(x=['posetive' if i==1 else 'negetive' for i in dataset['train']['label']])\n",
        "plt.title('Sentiment Label Distribution (Training Set)')\n",
        "plt.show()\n"
      ],
      "metadata": {
        "colab": {
          "base_uri": "https://localhost:8080/",
          "height": 452
        },
        "id": "vyAPtmu_fkTf",
        "outputId": "7580cfa8-685a-46bb-a152-b9330b1817b1",
        "execution": {
          "iopub.status.busy": "2024-11-05T14:30:35.567881Z",
          "iopub.execute_input": "2024-11-05T14:30:35.568249Z",
          "iopub.status.idle": "2024-11-05T14:30:35.890182Z",
          "shell.execute_reply.started": "2024-11-05T14:30:35.568212Z",
          "shell.execute_reply": "2024-11-05T14:30:35.889299Z"
        },
        "trusted": true
      },
      "execution_count": null,
      "outputs": [
        {
          "name": "stderr",
          "text": "/opt/conda/lib/python3.10/site-packages/seaborn/_oldcore.py:1765: FutureWarning: unique with argument that is not not a Series, Index, ExtensionArray, or np.ndarray is deprecated and will raise in a future version.\n  order = pd.unique(vector)\n",
          "output_type": "stream"
        },
        {
          "output_type": "display_data",
          "data": {
            "text/plain": "<Figure size 640x480 with 1 Axes>",
            "image/png": "[encoded data removed]"
          },
          "metadata": {}
        }
      ]
    },
    {
      "cell_type": "code",
      "source": [
        "# EDA - Distribution of sentiment labels\n",
        "sns.countplot(x=['posetive' if i==1 else 'negetive' for i in dataset['test']['label']])\n",
        "plt.title('Sentiment Label Distribution (Test Set)')\n",
        "plt.show()\n"
      ],
      "metadata": {
        "colab": {
          "base_uri": "https://localhost:8080/",
          "height": 452
        },
        "id": "c7KOek1EMQqS",
        "outputId": "a3508172-47dd-4380-8123-e1dd375177e8",
        "execution": {
          "iopub.status.busy": "2024-11-05T14:30:35.891491Z",
          "iopub.execute_input": "2024-11-05T14:30:35.891834Z",
          "iopub.status.idle": "2024-11-05T14:30:36.221862Z",
          "shell.execute_reply.started": "2024-11-05T14:30:35.891798Z",
          "shell.execute_reply": "2024-11-05T14:30:36.220735Z"
        },
        "trusted": true
      },
      "execution_count": null,
      "outputs": [
        {
          "name": "stderr",
          "text": "/opt/conda/lib/python3.10/site-packages/seaborn/_oldcore.py:1765: FutureWarning: unique with argument that is not not a Series, Index, ExtensionArray, or np.ndarray is deprecated and will raise in a future version.\n  order = pd.unique(vector)\n",
          "output_type": "stream"
        },
        {
          "output_type": "display_data",
          "data": {
            "text/plain": "<Figure size 640x480 with 1 Axes>",
            "image/png": "[encoded data removed]"
          },
          "metadata": {}
        }
      ]
    },
    {
      "cell_type": "markdown",
      "source": [
        "## Custom Dataset"
      ],
      "metadata": {
        "id": "jD8v360wliMh"
      }
    },
    {
      "cell_type": "code",
      "source": [
        "class CustomDataset(Dataset):\n",
        "    def __init__(self, data, tokenizer, max_len, n_tokens, initial_prompt_ids, device):\n",
        "        self.data = data\n",
        "        self.tokenizer = tokenizer\n",
        "        self.max_len = max_len\n",
        "        self.n_tokens = n_tokens\n",
        "        self.initial_prompt_ids = initial_prompt_ids.to(device) # Moved to device here!\n",
        "        self.device = device\n",
        "\n",
        "    def __len__(self):\n",
        "        return len(self.data)\n",
        "\n",
        "    def __getitem__(self, index):\n",
        "        text = str(self.data['text'][index])  # Ensure text is a string\n",
        "        label = str(self.data['string_label'][index])  # Ensure label is a string\n",
        "\n",
        "        # Tokenize input text\n",
        "        inputs = self.tokenizer(\n",
        "            text,\n",
        "            truncation=True,\n",
        "            max_length=self.max_len - self.n_tokens, # Account for prompt length\n",
        "            padding='max_length',\n",
        "            return_tensors='pt',\n",
        "        )\n",
        "\n",
        "        # Tokenize label\n",
        "        labels = self.tokenizer(\n",
        "            label,\n",
        "            max_length=2,\n",
        "            padding='max_length',\n",
        "            truncation=True,\n",
        "            return_tensors=\"pt\"\n",
        "        )[\"input_ids\"].squeeze(0).to(CONFIG.device)\n",
        "\n",
        "\n",
        "\n",
        "        inputs = {k: v.squeeze(0).to(CONFIG.device) for k, v in inputs.items()}\n",
        "\n",
        "        # Concatenate - all tensors are now on the correct device\n",
        "        inputs['input_ids'] = torch.cat([self.initial_prompt_ids, inputs['input_ids']], dim=0).to(CONFIG.device)\n",
        "\n",
        "        inputs['attention_mask'] = torch.cat([torch.ones_like(self.initial_prompt_ids), inputs['attention_mask']], dim=0).to(CONFIG.device)\n",
        "        return {  # No need to move to device here anymore\n",
        "            'input_ids': inputs['input_ids'],\n",
        "            'attention_mask': inputs['attention_mask'],\n",
        "            'labels': labels  # 'labels' was already on the device\n",
        "        }\n"
      ],
      "metadata": {
        "id": "IlhgB6CgIuX4",
        "execution": {
          "iopub.status.busy": "2024-11-05T14:30:36.224652Z",
          "iopub.execute_input": "2024-11-05T14:30:36.224998Z",
          "iopub.status.idle": "2024-11-05T14:30:36.236280Z",
          "shell.execute_reply.started": "2024-11-05T14:30:36.224961Z",
          "shell.execute_reply": "2024-11-05T14:30:36.235454Z"
        },
        "trusted": true
      },
      "execution_count": null,
      "outputs": []
    },
    {
      "cell_type": "code",
      "source": [
        "# Tokenize the initial prompt\n",
        "initial_prompt_ids = CONFIG.tokenizer(CONFIG.prompt_text, return_tensors=\"pt\")[\"input_ids\"].squeeze(0).to(CONFIG.device)\n",
        "\n"
      ],
      "metadata": {
        "id": "N0AkvHDEZb6x",
        "execution": {
          "iopub.status.busy": "2024-11-05T14:30:36.237526Z",
          "iopub.execute_input": "2024-11-05T14:30:36.237888Z",
          "iopub.status.idle": "2024-11-05T14:30:36.251892Z",
          "shell.execute_reply.started": "2024-11-05T14:30:36.237845Z",
          "shell.execute_reply": "2024-11-05T14:30:36.250980Z"
        },
        "trusted": true
      },
      "execution_count": null,
      "outputs": []
    },
    {
      "cell_type": "code",
      "source": [
        "# Create datasets, passing the device\n",
        "train_dataset_pt = CustomDataset(train_dataset, CONFIG.tokenizer, CONFIG.max_len, CONFIG.n_tokens, initial_prompt_ids, CONFIG.device)\n",
        "validation_dataset_pt = CustomDataset(validation_dataset, CONFIG.tokenizer, CONFIG.max_len, CONFIG.n_tokens, initial_prompt_ids, CONFIG.device)"
      ],
      "metadata": {
        "id": "WuU2Pc6IIudw",
        "execution": {
          "iopub.status.busy": "2024-11-05T14:30:36.253457Z",
          "iopub.execute_input": "2024-11-05T14:30:36.253797Z",
          "iopub.status.idle": "2024-11-05T14:30:36.260861Z",
          "shell.execute_reply.started": "2024-11-05T14:30:36.253764Z",
          "shell.execute_reply": "2024-11-05T14:30:36.260077Z"
        },
        "trusted": true
      },
      "execution_count": null,
      "outputs": []
    },
    {
      "cell_type": "markdown",
      "source": [
        "#Soft Prompt layer"
      ],
      "metadata": {
        "id": "rrJjQYVZYQL9"
      }
    },
    {
      "cell_type": "markdown",
      "source": [
        "**Explanation of Prompt Tuning:**\n",
        "\n",
        "Prompt tuning is a parameter-efficient fine-tuning technique where instead of fine-tuning the entire pre-trained language model (PLM), a small set of learnable parameters, called \"soft prompts\" or \"prompt embeddings\", are introduced.  These soft prompts are prepended to the input text embeddings and learned during training, while the PLM's weights remain frozen. This approach has shown comparable performance to full fine-tuning with significantly fewer trainable parameters.\n",
        "\n",
        "**How it works:**\n",
        "\n",
        "1. **Initialization:** The soft prompt is initialized, often randomly or with task-specific information. In this code, it's initialized with the embedding of a specific prompt sentence.\n",
        "2. **Concatenation:** The soft prompt embeddings are concatenated with the input text embeddings.\n",
        "3. **Frozen PLM:**  The PLM's weights are frozen, and only the soft prompt embeddings are updated during training via backpropagation.\n",
        "4. **Inference:** During inference, the learned prompt is prepended to the input text, allowing the PLM to perform the task without any modification to its internal weights.\n"
      ],
      "metadata": {
        "id": "EukeabuHyXZc"
      }
    },
    {
      "cell_type": "code",
      "source": [
        "class SoftPromptEmbedding(nn.Module):\n",
        "    def __init__(self, original_embedding, initial_prompt_embeddings):\n",
        "        super().__init__()\n",
        "        # Create a Parameter from a copy to ensure gradients are tracked\n",
        "        self.prompt_embedding = nn.Parameter(initial_prompt_embeddings.clone().float())  # .clone().float() is key\n",
        "        self.n_tokens = self.prompt_embedding.shape[0]\n",
        "\n",
        "    def forward(self, input_ids):\n",
        "        prompt_embeddings = self.prompt_embedding.unsqueeze(0).expand(input_ids.shape[0], -1, -1).to(CONFIG.device) # expand to batch size\n",
        "\n",
        "        # original input embeddings after prompt\n",
        "        input_embeddings = original_embedding(input_ids[:, self.n_tokens:]).to(CONFIG.device)\n",
        "        combined_embeddings = torch.cat([prompt_embeddings, input_embeddings], dim=1)\n",
        "        return combined_embeddings"
      ],
      "metadata": {
        "id": "i4vIOhPlIuhX",
        "execution": {
          "iopub.status.busy": "2024-11-05T14:30:36.262072Z",
          "iopub.execute_input": "2024-11-05T14:30:36.262410Z",
          "iopub.status.idle": "2024-11-05T14:30:36.275360Z",
          "shell.execute_reply.started": "2024-11-05T14:30:36.262378Z",
          "shell.execute_reply": "2024-11-05T14:30:36.274410Z"
        },
        "trusted": true
      },
      "execution_count": null,
      "outputs": []
    },
    {
      "cell_type": "markdown",
      "source": [
        "#Model"
      ],
      "metadata": {
        "id": "ks0BuKbSYUgy"
      }
    },
    {
      "cell_type": "code",
      "source": [
        "# Model initialization\n",
        "model = T5ForConditionalGeneration.from_pretrained(CONFIG.model_name).to(CONFIG.device)\n",
        "original_embedding = model.get_encoder().get_input_embeddings()\n",
        "initial_prompt_embeddings = model.get_encoder().get_input_embeddings()(initial_prompt_ids)\n",
        "# Create soft prompt embedding layer\n",
        "soft_prompt_embedding = SoftPromptEmbedding(original_embedding, initial_prompt_embeddings).to(CONFIG.device)\n",
        "model.get_encoder().set_input_embeddings(soft_prompt_embedding)\n"
      ],
      "metadata": {
        "id": "uTIyxSjPI6ls",
        "execution": {
          "iopub.status.busy": "2024-11-05T14:30:36.276449Z",
          "iopub.execute_input": "2024-11-05T14:30:36.276738Z",
          "iopub.status.idle": "2024-11-05T14:30:36.742813Z",
          "shell.execute_reply.started": "2024-11-05T14:30:36.276708Z",
          "shell.execute_reply": "2024-11-05T14:30:36.741828Z"
        },
        "trusted": true
      },
      "execution_count": null,
      "outputs": []
    },
    {
      "cell_type": "markdown",
      "source": [
        "**Check model architecture:**"
      ],
      "metadata": {
        "id": "JB_Nmnwhs7_T"
      }
    },
    {
      "cell_type": "code",
      "source": [
        "# Print model architecture\n",
        "print(model)"
      ],
      "metadata": {
        "colab": {
          "base_uri": "https://localhost:8080/"
        },
        "id": "FQXT33BJtB8k",
        "outputId": "bb2226b8-c92d-490e-896f-3f6ee4b39669",
        "execution": {
          "iopub.status.busy": "2024-11-05T14:30:36.744024Z",
          "iopub.execute_input": "2024-11-05T14:30:36.744441Z",
          "iopub.status.idle": "2024-11-05T14:30:36.751520Z",
          "shell.execute_reply.started": "2024-11-05T14:30:36.744401Z",
          "shell.execute_reply": "2024-11-05T14:30:36.750581Z"
        },
        "trusted": true
      },
      "execution_count": null,
      "outputs": [
        {
          "name": "stdout",
          "text": "T5ForConditionalGeneration(\n  (shared): Embedding(32128, 512)\n  (encoder): T5Stack(\n    (embed_tokens): SoftPromptEmbedding()\n    (block): ModuleList(\n      (0): T5Block(\n        (layer): ModuleList(\n          (0): T5LayerSelfAttention(\n            (SelfAttention): T5Attention(\n              (q): Linear(in_features=512, out_features=512, bias=False)\n              (k): Linear(in_features=512, out_features=512, bias=False)\n              (v): Linear(in_features=512, out_features=512, bias=False)\n              (o): Linear(in_features=512, out_features=512, bias=False)\n              (relative_attention_bias): Embedding(32, 8)\n            )\n            (layer_norm): T5LayerNorm()\n            (dropout): Dropout(p=0.1, inplace=False)\n          )\n          (1): T5LayerFF(\n            (DenseReluDense): T5DenseActDense(\n              (wi): Linear(in_features=512, out_features=2048, bias=False)\n              (wo): Linear(in_features=2048, out_features=512, bias=False)\n              (dropout): Dropout(p=0.1, inplace=False)\n              (act): ReLU()\n            )\n            (layer_norm): T5LayerNorm()\n            (dropout): Dropout(p=0.1, inplace=False)\n          )\n        )\n      )\n      (1-5): 5 x T5Block(\n        (layer): ModuleList(\n          (0): T5LayerSelfAttention(\n            (SelfAttention): T5Attention(\n              (q): Linear(in_features=512, out_features=512, bias=False)\n              (k): Linear(in_features=512, out_features=512, bias=False)\n              (v): Linear(in_features=512, out_features=512, bias=False)\n              (o): Linear(in_features=512, out_features=512, bias=False)\n            )\n            (layer_norm): T5LayerNorm()\n            (dropout): Dropout(p=0.1, inplace=False)\n          )\n          (1): T5LayerFF(\n            (DenseReluDense): T5DenseActDense(\n              (wi): Linear(in_features=512, out_features=2048, bias=False)\n              (wo): Linear(in_features=2048, out_features=512, bias=False)\n              (dropout): Dropout(p=0.1, inplace=False)\n              (act): ReLU()\n            )\n            (layer_norm): T5LayerNorm()\n            (dropout): Dropout(p=0.1, inplace=False)\n          )\n        )\n      )\n    )\n    (final_layer_norm): T5LayerNorm()\n    (dropout): Dropout(p=0.1, inplace=False)\n  )\n  (decoder): T5Stack(\n    (embed_tokens): Embedding(32128, 512)\n    (block): ModuleList(\n      (0): T5Block(\n        (layer): ModuleList(\n          (0): T5LayerSelfAttention(\n            (SelfAttention): T5Attention(\n              (q): Linear(in_features=512, out_features=512, bias=False)\n              (k): Linear(in_features=512, out_features=512, bias=False)\n              (v): Linear(in_features=512, out_features=512, bias=False)\n              (o): Linear(in_features=512, out_features=512, bias=False)\n              (relative_attention_bias): Embedding(32, 8)\n            )\n            (layer_norm): T5LayerNorm()\n            (dropout): Dropout(p=0.1, inplace=False)\n          )\n          (1): T5LayerCrossAttention(\n            (EncDecAttention): T5Attention(\n              (q): Linear(in_features=512, out_features=512, bias=False)\n              (k): Linear(in_features=512, out_features=512, bias=False)\n              (v): Linear(in_features=512, out_features=512, bias=False)\n              (o): Linear(in_features=512, out_features=512, bias=False)\n            )\n            (layer_norm): T5LayerNorm()\n            (dropout): Dropout(p=0.1, inplace=False)\n          )\n          (2): T5LayerFF(\n            (DenseReluDense): T5DenseActDense(\n              (wi): Linear(in_features=512, out_features=2048, bias=False)\n              (wo): Linear(in_features=2048, out_features=512, bias=False)\n              (dropout): Dropout(p=0.1, inplace=False)\n              (act): ReLU()\n            )\n            (layer_norm): T5LayerNorm()\n            (dropout): Dropout(p=0.1, inplace=False)\n          )\n        )\n      )\n      (1-5): 5 x T5Block(\n        (layer): ModuleList(\n          (0): T5LayerSelfAttention(\n            (SelfAttention): T5Attention(\n              (q): Linear(in_features=512, out_features=512, bias=False)\n              (k): Linear(in_features=512, out_features=512, bias=False)\n              (v): Linear(in_features=512, out_features=512, bias=False)\n              (o): Linear(in_features=512, out_features=512, bias=False)\n            )\n            (layer_norm): T5LayerNorm()\n            (dropout): Dropout(p=0.1, inplace=False)\n          )\n          (1): T5LayerCrossAttention(\n            (EncDecAttention): T5Attention(\n              (q): Linear(in_features=512, out_features=512, bias=False)\n              (k): Linear(in_features=512, out_features=512, bias=False)\n              (v): Linear(in_features=512, out_features=512, bias=False)\n              (o): Linear(in_features=512, out_features=512, bias=False)\n            )\n            (layer_norm): T5LayerNorm()\n            (dropout): Dropout(p=0.1, inplace=False)\n          )\n          (2): T5LayerFF(\n            (DenseReluDense): T5DenseActDense(\n              (wi): Linear(in_features=512, out_features=2048, bias=False)\n              (wo): Linear(in_features=2048, out_features=512, bias=False)\n              (dropout): Dropout(p=0.1, inplace=False)\n              (act): ReLU()\n            )\n            (layer_norm): T5LayerNorm()\n            (dropout): Dropout(p=0.1, inplace=False)\n          )\n        )\n      )\n    )\n    (final_layer_norm): T5LayerNorm()\n    (dropout): Dropout(p=0.1, inplace=False)\n  )\n  (lm_head): Linear(in_features=512, out_features=32128, bias=False)\n)\n",
          "output_type": "stream"
        }
      ]
    },
    {
      "cell_type": "markdown",
      "source": [
        "## Freeze parameters (excluding the soft prompt embeddings)"
      ],
      "metadata": {
        "id": "JrIVR-hjsRyh"
      }
    },
    {
      "cell_type": "code",
      "source": [
        "# Freeze parameters (excluding the soft prompt embeddings)\n",
        "for name, param in model.named_parameters():\n",
        "    if \"prompt_embedding\" not in name:\n",
        "        param.requires_grad = False"
      ],
      "metadata": {
        "id": "eL8M0s6QI6tt",
        "execution": {
          "iopub.status.busy": "2024-11-05T14:30:36.756051Z",
          "iopub.execute_input": "2024-11-05T14:30:36.756536Z",
          "iopub.status.idle": "2024-11-05T14:30:36.764156Z",
          "shell.execute_reply.started": "2024-11-05T14:30:36.756490Z",
          "shell.execute_reply": "2024-11-05T14:30:36.763366Z"
        },
        "trusted": true
      },
      "execution_count": null,
      "outputs": []
    },
    {
      "cell_type": "markdown",
      "source": [
        "**Explanation of Freezing Layers:**\n",
        "\n",
        "Freezing layers means preventing their weights from being updated during training. This is a common technique in transfer learning to leverage the knowledge captured in a pre-trained model while adapting it to a new task.  By freezing most of the PLM and only training the soft prompt, we reduce the risk of catastrophic forgetting (where the model forgets its pre-trained knowledge) and improve training efficiency."
      ],
      "metadata": {
        "id": "t94K12VmygUy"
      }
    },
    {
      "cell_type": "markdown",
      "source": [
        "**Check Freeze parameters:**"
      ],
      "metadata": {
        "id": "xqU1Kb0Asiqs"
      }
    },
    {
      "cell_type": "code",
      "source": [
        "# Analyze parameters\n",
        "total_params = 0\n",
        "trainable_params = 0\n",
        "non_trainable_params = 0\n",
        "\n",
        "for name, param in model.named_parameters():\n",
        "    total_params += param.numel()\n",
        "    if param.requires_grad:\n",
        "        trainable_params += param.numel()\n",
        "        print(f\"Trainable: {name}, Shape: {param.shape}, Num Params: {param.numel()}\")\n",
        "    else:\n",
        "        non_trainable_params += param.numel()\n",
        "        print(f\"Non-Trainable: {name}, Shape: {param.shape}, Num Params: {param.numel()}\")\n",
        "\n"
      ],
      "metadata": {
        "colab": {
          "base_uri": "https://localhost:8080/"
        },
        "id": "WaID5VTisPJs",
        "outputId": "6e924add-6d74-4753-c3ad-790d37c7e578",
        "execution": {
          "iopub.status.busy": "2024-11-05T14:30:36.765085Z",
          "iopub.execute_input": "2024-11-05T14:30:36.765373Z",
          "iopub.status.idle": "2024-11-05T14:30:36.779705Z",
          "shell.execute_reply.started": "2024-11-05T14:30:36.765342Z",
          "shell.execute_reply": "2024-11-05T14:30:36.778831Z"
        },
        "trusted": true
      },
      "execution_count": null,
      "outputs": [
        {
          "name": "stdout",
          "text": "Non-Trainable: shared.weight, Shape: torch.Size([32128, 512]), Num Params: 16449536\nTrainable: encoder.embed_tokens.prompt_embedding, Shape: torch.Size([12, 512]), Num Params: 6144\nNon-Trainable: encoder.block.0.layer.0.SelfAttention.q.weight, Shape: torch.Size([512, 512]), Num Params: 262144\nNon-Trainable: encoder.block.0.layer.0.SelfAttention.k.weight, Shape: torch.Size([512, 512]), Num Params: 262144\nNon-Trainable: encoder.block.0.layer.0.SelfAttention.v.weight, Shape: torch.Size([512, 512]), Num Params: 262144\nNon-Trainable: encoder.block.0.layer.0.SelfAttention.o.weight, Shape: torch.Size([512, 512]), Num Params: 262144\nNon-Trainable: encoder.block.0.layer.0.SelfAttention.relative_attention_bias.weight, Shape: torch.Size([32, 8]), Num Params: 256\nNon-Trainable: encoder.block.0.layer.0.layer_norm.weight, Shape: torch.Size([512]), Num Params: 512\nNon-Trainable: encoder.block.0.layer.1.DenseReluDense.wi.weight, Shape: torch.Size([2048, 512]), Num Params: 1048576\nNon-Trainable: encoder.block.0.layer.1.DenseReluDense.wo.weight, Shape: torch.Size([512, 2048]), Num Params: 1048576\nNon-Trainable: encoder.block.0.layer.1.layer_norm.weight, Shape: torch.Size([512]), Num Params: 512\nNon-Trainable: encoder.block.1.layer.0.SelfAttention.q.weight, Shape: torch.Size([512, 512]), Num Params: 262144\nNon-Trainable: encoder.block.1.layer.0.SelfAttention.k.weight, Shape: torch.Size([512, 512]), Num Params: 262144\nNon-Trainable: encoder.block.1.layer.0.SelfAttention.v.weight, Shape: torch.Size([512, 512]), Num Params: 262144\nNon-Trainable: encoder.block.1.layer.0.SelfAttention.o.weight, Shape: torch.Size([512, 512]), Num Params: 262144\nNon-Trainable: encoder.block.1.layer.0.layer_norm.weight, Shape: torch.Size([512]), Num Params: 512\nNon-Trainable: encoder.block.1.layer.1.DenseReluDense.wi.weight, Shape: torch.Size([2048, 512]), Num Params: 1048576\nNon-Trainable: encoder.block.1.layer.1.DenseReluDense.wo.weight, Shape: torch.Size([512, 2048]), Num Params: 1048576\nNon-Trainable: encoder.block.1.layer.1.layer_norm.weight, Shape: torch.Size([512]), Num Params: 512\nNon-Trainable: encoder.block.2.layer.0.SelfAttention.q.weight, Shape: torch.Size([512, 512]), Num Params: 262144\nNon-Trainable: encoder.block.2.layer.0.SelfAttention.k.weight, Shape: torch.Size([512, 512]), Num Params: 262144\nNon-Trainable: encoder.block.2.layer.0.SelfAttention.v.weight, Shape: torch.Size([512, 512]), Num Params: 262144\nNon-Trainable: encoder.block.2.layer.0.SelfAttention.o.weight, Shape: torch.Size([512, 512]), Num Params: 262144\nNon-Trainable: encoder.block.2.layer.0.layer_norm.weight, Shape: torch.Size([512]), Num Params: 512\nNon-Trainable: encoder.block.2.layer.1.DenseReluDense.wi.weight, Shape: torch.Size([2048, 512]), Num Params: 1048576\nNon-Trainable: encoder.block.2.layer.1.DenseReluDense.wo.weight, Shape: torch.Size([512, 2048]), Num Params: 1048576\nNon-Trainable: encoder.block.2.layer.1.layer_norm.weight, Shape: torch.Size([512]), Num Params: 512\nNon-Trainable: encoder.block.3.layer.0.SelfAttention.q.weight, Shape: torch.Size([512, 512]), Num Params: 262144\nNon-Trainable: encoder.block.3.layer.0.SelfAttention.k.weight, Shape: torch.Size([512, 512]), Num Params: 262144\nNon-Trainable: encoder.block.3.layer.0.SelfAttention.v.weight, Shape: torch.Size([512, 512]), Num Params: 262144\nNon-Trainable: encoder.block.3.layer.0.SelfAttention.o.weight, Shape: torch.Size([512, 512]), Num Params: 262144\nNon-Trainable: encoder.block.3.layer.0.layer_norm.weight, Shape: torch.Size([512]), Num Params: 512\nNon-Trainable: encoder.block.3.layer.1.DenseReluDense.wi.weight, Shape: torch.Size([2048, 512]), Num Params: 1048576\nNon-Trainable: encoder.block.3.layer.1.DenseReluDense.wo.weight, Shape: torch.Size([512, 2048]), Num Params: 1048576\nNon-Trainable: encoder.block.3.layer.1.layer_norm.weight, Shape: torch.Size([512]), Num Params: 512\nNon-Trainable: encoder.block.4.layer.0.SelfAttention.q.weight, Shape: torch.Size([512, 512]), Num Params: 262144\nNon-Trainable: encoder.block.4.layer.0.SelfAttention.k.weight, Shape: torch.Size([512, 512]), Num Params: 262144\nNon-Trainable: encoder.block.4.layer.0.SelfAttention.v.weight, Shape: torch.Size([512, 512]), Num Params: 262144\nNon-Trainable: encoder.block.4.layer.0.SelfAttention.o.weight, Shape: torch.Size([512, 512]), Num Params: 262144\nNon-Trainable: encoder.block.4.layer.0.layer_norm.weight, Shape: torch.Size([512]), Num Params: 512\nNon-Trainable: encoder.block.4.layer.1.DenseReluDense.wi.weight, Shape: torch.Size([2048, 512]), Num Params: 1048576\nNon-Trainable: encoder.block.4.layer.1.DenseReluDense.wo.weight, Shape: torch.Size([512, 2048]), Num Params: 1048576\nNon-Trainable: encoder.block.4.layer.1.layer_norm.weight, Shape: torch.Size([512]), Num Params: 512\nNon-Trainable: encoder.block.5.layer.0.SelfAttention.q.weight, Shape: torch.Size([512, 512]), Num Params: 262144\nNon-Trainable: encoder.block.5.layer.0.SelfAttention.k.weight, Shape: torch.Size([512, 512]), Num Params: 262144\nNon-Trainable: encoder.block.5.layer.0.SelfAttention.v.weight, Shape: torch.Size([512, 512]), Num Params: 262144\nNon-Trainable: encoder.block.5.layer.0.SelfAttention.o.weight, Shape: torch.Size([512, 512]), Num Params: 262144\nNon-Trainable: encoder.block.5.layer.0.layer_norm.weight, Shape: torch.Size([512]), Num Params: 512\nNon-Trainable: encoder.block.5.layer.1.DenseReluDense.wi.weight, Shape: torch.Size([2048, 512]), Num Params: 1048576\nNon-Trainable: encoder.block.5.layer.1.DenseReluDense.wo.weight, Shape: torch.Size([512, 2048]), Num Params: 1048576\nNon-Trainable: encoder.block.5.layer.1.layer_norm.weight, Shape: torch.Size([512]), Num Params: 512\nNon-Trainable: encoder.final_layer_norm.weight, Shape: torch.Size([512]), Num Params: 512\nNon-Trainable: decoder.block.0.layer.0.SelfAttention.q.weight, Shape: torch.Size([512, 512]), Num Params: 262144\nNon-Trainable: decoder.block.0.layer.0.SelfAttention.k.weight, Shape: torch.Size([512, 512]), Num Params: 262144\nNon-Trainable: decoder.block.0.layer.0.SelfAttention.v.weight, Shape: torch.Size([512, 512]), Num Params: 262144\nNon-Trainable: decoder.block.0.layer.0.SelfAttention.o.weight, Shape: torch.Size([512, 512]), Num Params: 262144\nNon-Trainable: decoder.block.0.layer.0.SelfAttention.relative_attention_bias.weight, Shape: torch.Size([32, 8]), Num Params: 256\nNon-Trainable: decoder.block.0.layer.0.layer_norm.weight, Shape: torch.Size([512]), Num Params: 512\nNon-Trainable: decoder.block.0.layer.1.EncDecAttention.q.weight, Shape: torch.Size([512, 512]), Num Params: 262144\nNon-Trainable: decoder.block.0.layer.1.EncDecAttention.k.weight, Shape: torch.Size([512, 512]), Num Params: 262144\nNon-Trainable: decoder.block.0.layer.1.EncDecAttention.v.weight, Shape: torch.Size([512, 512]), Num Params: 262144\nNon-Trainable: decoder.block.0.layer.1.EncDecAttention.o.weight, Shape: torch.Size([512, 512]), Num Params: 262144\nNon-Trainable: decoder.block.0.layer.1.layer_norm.weight, Shape: torch.Size([512]), Num Params: 512\nNon-Trainable: decoder.block.0.layer.2.DenseReluDense.wi.weight, Shape: torch.Size([2048, 512]), Num Params: 1048576\nNon-Trainable: decoder.block.0.layer.2.DenseReluDense.wo.weight, Shape: torch.Size([512, 2048]), Num Params: 1048576\nNon-Trainable: decoder.block.0.layer.2.layer_norm.weight, Shape: torch.Size([512]), Num Params: 512\nNon-Trainable: decoder.block.1.layer.0.SelfAttention.q.weight, Shape: torch.Size([512, 512]), Num Params: 262144\nNon-Trainable: decoder.block.1.layer.0.SelfAttention.k.weight, Shape: torch.Size([512, 512]), Num Params: 262144\nNon-Trainable: decoder.block.1.layer.0.SelfAttention.v.weight, Shape: torch.Size([512, 512]), Num Params: 262144\nNon-Trainable: decoder.block.1.layer.0.SelfAttention.o.weight, Shape: torch.Size([512, 512]), Num Params: 262144\nNon-Trainable: decoder.block.1.layer.0.layer_norm.weight, Shape: torch.Size([512]), Num Params: 512\nNon-Trainable: decoder.block.1.layer.1.EncDecAttention.q.weight, Shape: torch.Size([512, 512]), Num Params: 262144\nNon-Trainable: decoder.block.1.layer.1.EncDecAttention.k.weight, Shape: torch.Size([512, 512]), Num Params: 262144\nNon-Trainable: decoder.block.1.layer.1.EncDecAttention.v.weight, Shape: torch.Size([512, 512]), Num Params: 262144\nNon-Trainable: decoder.block.1.layer.1.EncDecAttention.o.weight, Shape: torch.Size([512, 512]), Num Params: 262144\nNon-Trainable: decoder.block.1.layer.1.layer_norm.weight, Shape: torch.Size([512]), Num Params: 512\nNon-Trainable: decoder.block.1.layer.2.DenseReluDense.wi.weight, Shape: torch.Size([2048, 512]), Num Params: 1048576\nNon-Trainable: decoder.block.1.layer.2.DenseReluDense.wo.weight, Shape: torch.Size([512, 2048]), Num Params: 1048576\nNon-Trainable: decoder.block.1.layer.2.layer_norm.weight, Shape: torch.Size([512]), Num Params: 512\nNon-Trainable: decoder.block.2.layer.0.SelfAttention.q.weight, Shape: torch.Size([512, 512]), Num Params: 262144\nNon-Trainable: decoder.block.2.layer.0.SelfAttention.k.weight, Shape: torch.Size([512, 512]), Num Params: 262144\nNon-Trainable: decoder.block.2.layer.0.SelfAttention.v.weight, Shape: torch.Size([512, 512]), Num Params: 262144\nNon-Trainable: decoder.block.2.layer.0.SelfAttention.o.weight, Shape: torch.Size([512, 512]), Num Params: 262144\nNon-Trainable: decoder.block.2.layer.0.layer_norm.weight, Shape: torch.Size([512]), Num Params: 512\nNon-Trainable: decoder.block.2.layer.1.EncDecAttention.q.weight, Shape: torch.Size([512, 512]), Num Params: 262144\nNon-Trainable: decoder.block.2.layer.1.EncDecAttention.k.weight, Shape: torch.Size([512, 512]), Num Params: 262144\nNon-Trainable: decoder.block.2.layer.1.EncDecAttention.v.weight, Shape: torch.Size([512, 512]), Num Params: 262144\nNon-Trainable: decoder.block.2.layer.1.EncDecAttention.o.weight, Shape: torch.Size([512, 512]), Num Params: 262144\nNon-Trainable: decoder.block.2.layer.1.layer_norm.weight, Shape: torch.Size([512]), Num Params: 512\nNon-Trainable: decoder.block.2.layer.2.DenseReluDense.wi.weight, Shape: torch.Size([2048, 512]), Num Params: 1048576\nNon-Trainable: decoder.block.2.layer.2.DenseReluDense.wo.weight, Shape: torch.Size([512, 2048]), Num Params: 1048576\nNon-Trainable: decoder.block.2.layer.2.layer_norm.weight, Shape: torch.Size([512]), Num Params: 512\nNon-Trainable: decoder.block.3.layer.0.SelfAttention.q.weight, Shape: torch.Size([512, 512]), Num Params: 262144\nNon-Trainable: decoder.block.3.layer.0.SelfAttention.k.weight, Shape: torch.Size([512, 512]), Num Params: 262144\nNon-Trainable: decoder.block.3.layer.0.SelfAttention.v.weight, Shape: torch.Size([512, 512]), Num Params: 262144\nNon-Trainable: decoder.block.3.layer.0.SelfAttention.o.weight, Shape: torch.Size([512, 512]), Num Params: 262144\nNon-Trainable: decoder.block.3.layer.0.layer_norm.weight, Shape: torch.Size([512]), Num Params: 512\nNon-Trainable: decoder.block.3.layer.1.EncDecAttention.q.weight, Shape: torch.Size([512, 512]), Num Params: 262144\nNon-Trainable: decoder.block.3.layer.1.EncDecAttention.k.weight, Shape: torch.Size([512, 512]), Num Params: 262144\nNon-Trainable: decoder.block.3.layer.1.EncDecAttention.v.weight, Shape: torch.Size([512, 512]), Num Params: 262144\nNon-Trainable: decoder.block.3.layer.1.EncDecAttention.o.weight, Shape: torch.Size([512, 512]), Num Params: 262144\nNon-Trainable: decoder.block.3.layer.1.layer_norm.weight, Shape: torch.Size([512]), Num Params: 512\nNon-Trainable: decoder.block.3.layer.2.DenseReluDense.wi.weight, Shape: torch.Size([2048, 512]), Num Params: 1048576\nNon-Trainable: decoder.block.3.layer.2.DenseReluDense.wo.weight, Shape: torch.Size([512, 2048]), Num Params: 1048576\nNon-Trainable: decoder.block.3.layer.2.layer_norm.weight, Shape: torch.Size([512]), Num Params: 512\nNon-Trainable: decoder.block.4.layer.0.SelfAttention.q.weight, Shape: torch.Size([512, 512]), Num Params: 262144\nNon-Trainable: decoder.block.4.layer.0.SelfAttention.k.weight, Shape: torch.Size([512, 512]), Num Params: 262144\nNon-Trainable: decoder.block.4.layer.0.SelfAttention.v.weight, Shape: torch.Size([512, 512]), Num Params: 262144\nNon-Trainable: decoder.block.4.layer.0.SelfAttention.o.weight, Shape: torch.Size([512, 512]), Num Params: 262144\nNon-Trainable: decoder.block.4.layer.0.layer_norm.weight, Shape: torch.Size([512]), Num Params: 512\nNon-Trainable: decoder.block.4.layer.1.EncDecAttention.q.weight, Shape: torch.Size([512, 512]), Num Params: 262144\nNon-Trainable: decoder.block.4.layer.1.EncDecAttention.k.weight, Shape: torch.Size([512, 512]), Num Params: 262144\nNon-Trainable: decoder.block.4.layer.1.EncDecAttention.v.weight, Shape: torch.Size([512, 512]), Num Params: 262144\nNon-Trainable: decoder.block.4.layer.1.EncDecAttention.o.weight, Shape: torch.Size([512, 512]), Num Params: 262144\nNon-Trainable: decoder.block.4.layer.1.layer_norm.weight, Shape: torch.Size([512]), Num Params: 512\nNon-Trainable: decoder.block.4.layer.2.DenseReluDense.wi.weight, Shape: torch.Size([2048, 512]), Num Params: 1048576\nNon-Trainable: decoder.block.4.layer.2.DenseReluDense.wo.weight, Shape: torch.Size([512, 2048]), Num Params: 1048576\nNon-Trainable: decoder.block.4.layer.2.layer_norm.weight, Shape: torch.Size([512]), Num Params: 512\nNon-Trainable: decoder.block.5.layer.0.SelfAttention.q.weight, Shape: torch.Size([512, 512]), Num Params: 262144\nNon-Trainable: decoder.block.5.layer.0.SelfAttention.k.weight, Shape: torch.Size([512, 512]), Num Params: 262144\nNon-Trainable: decoder.block.5.layer.0.SelfAttention.v.weight, Shape: torch.Size([512, 512]), Num Params: 262144\nNon-Trainable: decoder.block.5.layer.0.SelfAttention.o.weight, Shape: torch.Size([512, 512]), Num Params: 262144\nNon-Trainable: decoder.block.5.layer.0.layer_norm.weight, Shape: torch.Size([512]), Num Params: 512\nNon-Trainable: decoder.block.5.layer.1.EncDecAttention.q.weight, Shape: torch.Size([512, 512]), Num Params: 262144\nNon-Trainable: decoder.block.5.layer.1.EncDecAttention.k.weight, Shape: torch.Size([512, 512]), Num Params: 262144\nNon-Trainable: decoder.block.5.layer.1.EncDecAttention.v.weight, Shape: torch.Size([512, 512]), Num Params: 262144\nNon-Trainable: decoder.block.5.layer.1.EncDecAttention.o.weight, Shape: torch.Size([512, 512]), Num Params: 262144\nNon-Trainable: decoder.block.5.layer.1.layer_norm.weight, Shape: torch.Size([512]), Num Params: 512\nNon-Trainable: decoder.block.5.layer.2.DenseReluDense.wi.weight, Shape: torch.Size([2048, 512]), Num Params: 1048576\nNon-Trainable: decoder.block.5.layer.2.DenseReluDense.wo.weight, Shape: torch.Size([512, 2048]), Num Params: 1048576\nNon-Trainable: decoder.block.5.layer.2.layer_norm.weight, Shape: torch.Size([512]), Num Params: 512\nNon-Trainable: decoder.final_layer_norm.weight, Shape: torch.Size([512]), Num Params: 512\n",
          "output_type": "stream"
        }
      ]
    },
    {
      "cell_type": "code",
      "source": [
        "print(f\"Total parameters: {total_params}\")\n",
        "print(f\"Trainable parameters: {trainable_params}\")\n",
        "print(f\"Non-trainable parameters: {non_trainable_params}\")"
      ],
      "metadata": {
        "colab": {
          "base_uri": "https://localhost:8080/"
        },
        "id": "tNcBFrxKtIbi",
        "outputId": "7927dfea-0d26-43f9-c64f-6ce82b8ffed4",
        "execution": {
          "iopub.status.busy": "2024-11-05T14:30:36.781054Z",
          "iopub.execute_input": "2024-11-05T14:30:36.782058Z",
          "iopub.status.idle": "2024-11-05T14:30:36.793331Z",
          "shell.execute_reply.started": "2024-11-05T14:30:36.782019Z",
          "shell.execute_reply": "2024-11-05T14:30:36.792410Z"
        },
        "trusted": true
      },
      "execution_count": null,
      "outputs": [
        {
          "name": "stdout",
          "text": "Total parameters: 60512768\nTrainable parameters: 6144\nNon-trainable parameters: 60506624\n",
          "output_type": "stream"
        }
      ]
    },
    {
      "cell_type": "markdown",
      "source": [
        "**Set optimizer for soft prompt embeding:**"
      ],
      "metadata": {
        "id": "4vhVA32_ssEP"
      }
    },
    {
      "cell_type": "code",
      "source": [
        "# Optimizer\n",
        "optimizer = torch.optim.AdamW(filter(lambda p: p.requires_grad, model.parameters()), lr=CONFIG.learning_rate)\n"
      ],
      "metadata": {
        "id": "wQpc3veXIurJ",
        "execution": {
          "iopub.status.busy": "2024-11-05T14:30:36.794465Z",
          "iopub.execute_input": "2024-11-05T14:30:36.794836Z",
          "iopub.status.idle": "2024-11-05T14:30:36.804249Z",
          "shell.execute_reply.started": "2024-11-05T14:30:36.794792Z",
          "shell.execute_reply": "2024-11-05T14:30:36.803314Z"
        },
        "trusted": true
      },
      "execution_count": null,
      "outputs": []
    },
    {
      "cell_type": "markdown",
      "source": [
        "#Train"
      ],
      "metadata": {
        "id": "EVc9bOMnYY75"
      }
    },
    {
      "cell_type": "code",
      "source": [
        "# Data Loaders\n",
        "train_loader = DataLoader(train_dataset_pt, batch_size=CONFIG.train_batch, shuffle=True)\n",
        "validation_loader = DataLoader(validation_dataset_pt, batch_size=CONFIG.valid_batch, shuffle=False)"
      ],
      "metadata": {
        "id": "IHqIY5DpI65c",
        "execution": {
          "iopub.status.busy": "2024-11-05T14:30:36.805506Z",
          "iopub.execute_input": "2024-11-05T14:30:36.805966Z",
          "iopub.status.idle": "2024-11-05T14:30:36.814833Z",
          "shell.execute_reply.started": "2024-11-05T14:30:36.805890Z",
          "shell.execute_reply": "2024-11-05T14:30:36.813982Z"
        },
        "trusted": true
      },
      "execution_count": null,
      "outputs": []
    },
    {
      "cell_type": "code",
      "source": [
        "class Trainer:\n",
        "    def __init__(self, model, tokenizer, train_dataset, val_dataset, config):\n",
        "        self.model = model\n",
        "        self.tokenizer = tokenizer\n",
        "        self.train_dataset = train_dataset\n",
        "        self.val_dataset = val_dataset\n",
        "        self.config = config\n",
        "\n",
        "        self.train_loader = DataLoader(self.train_dataset, batch_size=self.config.train_batch, shuffle=True)\n",
        "        self.val_loader = DataLoader(self.val_dataset, batch_size=self.config.valid_batch, shuffle=False)\n",
        "\n",
        "        self.optimizer = torch.optim.AdamW(filter(lambda p: p.requires_grad, self.model.parameters()), lr=self.config.learning_rate)\n",
        "\n",
        "        self.train_losses = []\n",
        "        self.currenct_epoch = 0\n",
        "\n",
        "\n",
        "    def train(self):\n",
        "        for epoch in range(self.config.epochs):\n",
        "            self.currenct_epoch += 1\n",
        "            self.model.train()\n",
        "            total_loss = 0\n",
        "\n",
        "            for batch in tqdm(self.train_loader, desc=f\"Epoch {epoch + 1}\"):\n",
        "                input_ids = batch['input_ids'].to(self.config.device)\n",
        "                attention_mask = batch['attention_mask'].to(self.config.device)\n",
        "                labels = batch['labels'].to(self.config.device)\n",
        "\n",
        "                self.optimizer.zero_grad()\n",
        "                outputs = self.model(input_ids=input_ids, attention_mask=attention_mask, labels=labels)\n",
        "                loss = outputs.loss\n",
        "                total_loss += loss.item()\n",
        "\n",
        "                loss.backward()\n",
        "                self.optimizer.step()\n",
        "\n",
        "            avg_loss = total_loss / len(self.train_loader)\n",
        "            self.train_losses.append(avg_loss)\n",
        "            print(f\"Epoch {epoch + 1}/{self.config.epochs} - Average training loss: {avg_loss:.4f}\")\n",
        "\n",
        "\n",
        "    def evaluate(self):\n",
        "        self.model.eval()\n",
        "        correct_predictions_direct = 0\n",
        "        correct_predictions_prob = 0\n",
        "        total_predictions = 0\n",
        "\n",
        "        with torch.no_grad():\n",
        "            for batch in tqdm(self.val_loader, desc=\"Evaluating\"):\n",
        "                input_ids = batch['input_ids'].to(self.config.device)\n",
        "                attention_mask = batch['attention_mask'].to(self.config.device)\n",
        "                labels = batch['labels'].to(self.config.device)  # Get the labels from the batch\n",
        "                outputs = self.model(input_ids=input_ids, attention_mask=attention_mask, labels=labels)\n",
        "                logits = outputs.logits\n",
        "                generated_outputs = self.model.generate(input_ids=input_ids, attention_mask=attention_mask, max_new_tokens=2)\n",
        "\n",
        "                for i in range(len(labels)):\n",
        "                    predicted_label = self.config.tokenizer.decode(generated_outputs[i], skip_special_tokens=True).lower()\n",
        "                    true_label = self.config.tokenizer.decode(labels[i], skip_special_tokens=True).lower()\n",
        "\n",
        "                    if predicted_label == true_label:\n",
        "                        correct_predictions_direct += 1\n",
        "\n",
        "                    # Get the vocabulary indices of \"negative\" and \"positive\"\n",
        "                    neg_token_id = self.config.tokenizer.encode(\"negative\")[0]\n",
        "                    pos_token_id = self.config.tokenizer.encode(\"positive\")[0]\n",
        "\n",
        "\n",
        "                    # Get probabilities for \"negative\" and \"positive\" from the logits\n",
        "                    neg_prob = torch.softmax(logits[i, 0, :], dim=-1)[neg_token_id].item()\n",
        "                    pos_prob = torch.softmax(logits[i, 0, :], dim=-1)[pos_token_id].item()\n",
        "\n",
        "\n",
        "                    prob_based_prediction = \"negative\" if neg_prob > pos_prob else \"positive\"\n",
        "                    if prob_based_prediction == true_label:\n",
        "                        correct_predictions_prob += 1\n",
        "\n",
        "                    total_predictions += 1\n",
        "\n",
        "        accuracy_direct = correct_predictions_direct / total_predictions\n",
        "        accuracy_prob = correct_predictions_prob / total_predictions\n",
        "\n",
        "        print(f\"Direct Comparison Accuracy: {accuracy_direct:.4f}\")\n",
        "        print(f\"Probability-based Accuracy: {accuracy_prob:.4f}\")\n",
        "\n",
        "        self.model.train()\n",
        "        return {\"val_accuracy_direct\": accuracy_direct, \"val_accuracy_prob\": accuracy_prob}\n",
        "\n",
        "    def plot(self):\n",
        "        plt.figure(figsize=(10, 5))\n",
        "        plt.plot(self.train_losses, label=\"Training Loss\")\n",
        "        plt.xlabel(\"Epoch\")\n",
        "        plt.ylabel(\"Loss\")\n",
        "        plt.title(\"Training Loss over Epochs\")\n",
        "        plt.legend()\n",
        "        plt.show()\n"
      ],
      "metadata": {
        "id": "cMmPA9X0RqIe",
        "execution": {
          "iopub.status.busy": "2024-11-05T14:30:36.815909Z",
          "iopub.execute_input": "2024-11-05T14:30:36.816206Z",
          "iopub.status.idle": "2024-11-05T14:30:36.837740Z",
          "shell.execute_reply.started": "2024-11-05T14:30:36.816175Z",
          "shell.execute_reply": "2024-11-05T14:30:36.836978Z"
        },
        "trusted": true
      },
      "execution_count": null,
      "outputs": []
    },
    {
      "cell_type": "code",
      "source": [
        "\n",
        "# Create Trainer instance\n",
        "trainer = Trainer(model, CONFIG.tokenizer, train_dataset_pt, validation_dataset_pt, CONFIG)"
      ],
      "metadata": {
        "id": "HHr4Elg7_eKW",
        "execution": {
          "iopub.status.busy": "2024-11-05T14:30:36.839049Z",
          "iopub.execute_input": "2024-11-05T14:30:36.839496Z",
          "iopub.status.idle": "2024-11-05T14:30:36.854099Z",
          "shell.execute_reply.started": "2024-11-05T14:30:36.839461Z",
          "shell.execute_reply": "2024-11-05T14:30:36.853098Z"
        },
        "trusted": true
      },
      "execution_count": null,
      "outputs": []
    },
    {
      "cell_type": "code",
      "source": [
        "#Evaluate\n",
        "before_train = trainer.evaluate()"
      ],
      "metadata": {
        "colab": {
          "base_uri": "https://localhost:8080/",
          "height": 49,
          "referenced_widgets": [
            "d0352e2c503f49758b35da4346348984",
            "ade13464fade40d281c8125182c81a5c",
            "bb2da7f34cc948f8abc701b62cbf3af0",
            "94aeb69e093a4f62a302d7c724cc61f6",
            "413968ce08f94c99822180df5a501150",
            "b992629053fb4cff9d7d9aba1807a0c4",
            "b338099d8784407a9eb787d71aec83f9",
            "741e6859faf54ddcb64ea4a8ce9bb0b9",
            "88c6799d07574b53bffd6b6794db757c",
            "e959f3b461a94404ab013db8f8e9ee97",
            "35be21d92bd34bbbb46cac49473c1701",
            "131696ea431347b88929ab53f2a495c6"
          ]
        },
        "id": "_PYkSgEhQN4q",
        "outputId": "40fc415e-a4d6-4166-90f0-fe91bc8ee096",
        "execution": {
          "iopub.status.busy": "2024-11-05T14:30:36.855216Z",
          "iopub.execute_input": "2024-11-05T14:30:36.855518Z",
          "iopub.status.idle": "2024-11-05T14:31:09.806189Z",
          "shell.execute_reply.started": "2024-11-05T14:30:36.855488Z",
          "shell.execute_reply": "2024-11-05T14:31:09.804948Z"
        },
        "trusted": true
      },
      "execution_count": null,
      "outputs": [
        {
          "output_type": "display_data",
          "data": {
            "text/plain": "Evaluating:   0%|          | 0/63 [00:00<?, ?it/s]",
            "application/vnd.jupyter.widget-view+json": {
              "version_major": 2,
              "version_minor": 0,
              "model_id": "131696ea431347b88929ab53f2a495c6"
            }
          },
          "metadata": {}
        },
        {
          "name": "stdout",
          "text": "Direct Comparison Accuracy: 0.0000\nProbability-based Accuracy: 0.7315\n",
          "output_type": "stream"
        }
      ]
    },
    {
      "cell_type": "code",
      "source": [
        "#train\n",
        "trainer.train()"
      ],
      "metadata": {
        "id": "BNSleFg984iv",
        "execution": {
          "iopub.status.busy": "2024-11-05T14:31:09.807745Z",
          "iopub.execute_input": "2024-11-05T14:31:09.808180Z",
          "iopub.status.idle": "2024-11-05T14:37:23.535534Z",
          "shell.execute_reply.started": "2024-11-05T14:31:09.808131Z",
          "shell.execute_reply": "2024-11-05T14:37:23.534427Z"
        },
        "trusted": true,
        "colab": {
          "referenced_widgets": [
            "7945b1f065094fc5b2fd78c608ec4d56",
            "4bc13770074b4ccf90f9e7bc90bc590c",
            "dfa4d57bdc5f485c8406cec93fa7ede6"
          ]
        },
        "outputId": "03523cb9-b04c-46ec-f6a1-8c1269dba838"
      },
      "execution_count": null,
      "outputs": [
        {
          "output_type": "display_data",
          "data": {
            "text/plain": "Epoch 1:   0%|          | 0/157 [00:00<?, ?it/s]",
            "application/vnd.jupyter.widget-view+json": {
              "version_major": 2,
              "version_minor": 0,
              "model_id": "7945b1f065094fc5b2fd78c608ec4d56"
            }
          },
          "metadata": {}
        },
        {
          "name": "stdout",
          "text": "Epoch 1/3 - Average training loss: 5.3597\n",
          "output_type": "stream"
        },
        {
          "output_type": "display_data",
          "data": {
            "text/plain": "Epoch 2:   0%|          | 0/157 [00:00<?, ?it/s]",
            "application/vnd.jupyter.widget-view+json": {
              "version_major": 2,
              "version_minor": 0,
              "model_id": "4bc13770074b4ccf90f9e7bc90bc590c"
            }
          },
          "metadata": {}
        },
        {
          "name": "stdout",
          "text": "Epoch 2/3 - Average training loss: 0.3346\n",
          "output_type": "stream"
        },
        {
          "output_type": "display_data",
          "data": {
            "text/plain": "Epoch 3:   0%|          | 0/157 [00:00<?, ?it/s]",
            "application/vnd.jupyter.widget-view+json": {
              "version_major": 2,
              "version_minor": 0,
              "model_id": "dfa4d57bdc5f485c8406cec93fa7ede6"
            }
          },
          "metadata": {}
        },
        {
          "name": "stdout",
          "text": "Epoch 3/3 - Average training loss: 0.2872\n",
          "output_type": "stream"
        }
      ]
    },
    {
      "cell_type": "code",
      "source": [
        "#Evaluate\n",
        "after_train = trainer.evaluate()"
      ],
      "metadata": {
        "id": "FKllYzA2iW0k",
        "execution": {
          "iopub.status.busy": "2024-11-05T14:37:23.537203Z",
          "iopub.execute_input": "2024-11-05T14:37:23.537614Z",
          "iopub.status.idle": "2024-11-05T14:37:55.865948Z",
          "shell.execute_reply.started": "2024-11-05T14:37:23.537569Z",
          "shell.execute_reply": "2024-11-05T14:37:55.864995Z"
        },
        "trusted": true,
        "colab": {
          "referenced_widgets": [
            "8e224290edcc4a8fbf20e0e1870eb188"
          ]
        },
        "outputId": "a0e4e50d-5b2d-42cd-8483-687ed437d759"
      },
      "execution_count": null,
      "outputs": [
        {
          "output_type": "display_data",
          "data": {
            "text/plain": "Evaluating:   0%|          | 0/63 [00:00<?, ?it/s]",
            "application/vnd.jupyter.widget-view+json": {
              "version_major": 2,
              "version_minor": 0,
              "model_id": "8e224290edcc4a8fbf20e0e1870eb188"
            }
          },
          "metadata": {}
        },
        {
          "name": "stdout",
          "text": "Direct Comparison Accuracy: 0.8315\nProbability-based Accuracy: 0.8315\n",
          "output_type": "stream"
        }
      ]
    },
    {
      "cell_type": "markdown",
      "source": [
        "#Resault"
      ],
      "metadata": {
        "id": "o6nn1lop_ecH"
      }
    },
    {
      "cell_type": "code",
      "source": [
        "plt.figure(figsize=(10, 5))\n",
        "plt.plot(trainer.train_losses, label=\"Training Loss\")\n",
        "plt.xlabel(\"Epoch\")\n",
        "plt.ylabel(\"Loss\")\n",
        "plt.title(\"Training Loss over Epochs\")\n",
        "plt.legend()\n",
        "plt.show()\n"
      ],
      "metadata": {
        "id": "MbmIEht_-L16",
        "execution": {
          "iopub.status.busy": "2024-11-05T14:37:55.867384Z",
          "iopub.execute_input": "2024-11-05T14:37:55.868094Z",
          "iopub.status.idle": "2024-11-05T14:37:56.179050Z",
          "shell.execute_reply.started": "2024-11-05T14:37:55.868046Z",
          "shell.execute_reply": "2024-11-05T14:37:56.178066Z"
        },
        "trusted": true,
        "outputId": "8bc21ba4-a971-4227-8b18-7efdacb7a973"
      },
      "execution_count": null,
      "outputs": [
        {
          "output_type": "display_data",
          "data": {
            "text/plain": "<Figure size 1000x500 with 1 Axes>",
            "image/png": "[encoded data removed]"
          },
          "metadata": {}
        }
      ]
    },
    {
      "cell_type": "markdown",
      "source": [
        "## Training losses"
      ],
      "metadata": {
        "id": "b8ZXT98SQq6U"
      }
    },
    {
      "cell_type": "code",
      "source": [
        "trainer.plot"
      ],
      "metadata": {
        "id": "8Ya2F58DQthw",
        "execution": {
          "iopub.status.busy": "2024-11-05T14:37:56.180600Z",
          "iopub.execute_input": "2024-11-05T14:37:56.181380Z",
          "iopub.status.idle": "2024-11-05T14:37:56.187770Z",
          "shell.execute_reply.started": "2024-11-05T14:37:56.181330Z",
          "shell.execute_reply": "2024-11-05T14:37:56.186963Z"
        },
        "trusted": true,
        "outputId": "62b203ba-0564-4c2a-94c5-69a62dbec64a"
      },
      "execution_count": null,
      "outputs": [
        {
          "execution_count": 87,
          "output_type": "execute_result",
          "data": {
            "text/plain": "<bound method Trainer.plot of <__main__.Trainer object at 0x7e379ce55870>>"
          },
          "metadata": {}
        }
      ]
    },
    {
      "cell_type": "markdown",
      "source": [
        "## compair result before and after training"
      ],
      "metadata": {
        "id": "iVqzS-PpQx4g"
      }
    },
    {
      "cell_type": "markdown",
      "source": [
        "**Direct Comparison Accuracy:**\n",
        "\n",
        "\n",
        "This metric directly compares the entire generated output token sequence against the gold standard label sequence. It counts a prediction as correct only if the generated sequence exactly matches the true label sequence. This method is stricter and more sensitive to variations in the generated output."
      ],
      "metadata": {
        "id": "jiiQGNqwSOZP"
      }
    },
    {
      "cell_type": "code",
      "source": [
        "print(f'''Before training accuracy was: {before_train['val_accuracy_direct']} \\n after Training accuracy is: {after_train['val_accuracy_direct']}''')"
      ],
      "metadata": {
        "id": "IQv1LiC9QwGX",
        "execution": {
          "iopub.status.busy": "2024-11-05T14:37:56.191387Z",
          "iopub.execute_input": "2024-11-05T14:37:56.191746Z",
          "iopub.status.idle": "2024-11-05T14:37:56.200541Z",
          "shell.execute_reply.started": "2024-11-05T14:37:56.191713Z",
          "shell.execute_reply": "2024-11-05T14:37:56.199546Z"
        },
        "trusted": true,
        "outputId": "0711caa3-4875-4edc-ee42-8d46dee81ded"
      },
      "execution_count": null,
      "outputs": [
        {
          "name": "stdout",
          "text": "Before training accuracy was: 0.0 \n after Training accuracy is: 0.8315\n",
          "output_type": "stream"
        }
      ]
    },
    {
      "cell_type": "markdown",
      "source": [
        "**Probability-based Accuracy:**\n",
        "\n",
        " This metric examines the first generated token's logits and calculates the probabilities specifically for the 'positive' and 'negative' tokens. It then compares these two probabilities. The label corresponding to the higher probability is chosen as the model's prediction. This approach can be more robust than direct comparison because it focuses on the model's confidence in the relevant labels, even if other tokens are generated.\n",
        "\n"
      ],
      "metadata": {
        "id": "yQDY4VHsSPBg"
      }
    },
    {
      "cell_type": "code",
      "source": [
        "print(f'''Before training accuracy was: {before_train['val_accuracy_prob']} \\n after Training accuracy is: {after_train['val_accuracy_prob']}''')"
      ],
      "metadata": {
        "id": "YOskFDk4SPOQ",
        "execution": {
          "iopub.status.busy": "2024-11-05T14:37:56.201651Z",
          "iopub.execute_input": "2024-11-05T14:37:56.202014Z",
          "iopub.status.idle": "2024-11-05T14:37:56.214365Z",
          "shell.execute_reply.started": "2024-11-05T14:37:56.201955Z",
          "shell.execute_reply": "2024-11-05T14:37:56.213414Z"
        },
        "trusted": true,
        "outputId": "4f20b07b-794a-4b59-dcca-bf32ac3248c1"
      },
      "execution_count": null,
      "outputs": [
        {
          "name": "stdout",
          "text": "Before training accuracy was: 0.7315 \n after Training accuracy is: 0.8315\n",
          "output_type": "stream"
        }
      ]
    },
    {
      "cell_type": "markdown",
      "source": [
        "## test model manual"
      ],
      "metadata": {
        "id": "OrkXX4VPQ24L"
      }
    },
    {
      "cell_type": "code",
      "source": [
        "review = '''\n",
        "the movie was good\n",
        "'''\n",
        "inputs = CONFIG.tokenizer(\n",
        "    review,\n",
        "    truncation=True,\n",
        "    max_length=CONFIG.max_len - CONFIG.n_tokens,\n",
        "    padding='max_length',\n",
        "    return_tensors='pt',\n",
        ")\n",
        "\n",
        "# Keep the batch dimension\n",
        "inputs = {k: v.to(CONFIG.device) for k, v in inputs.items()}\n",
        "\n",
        "\n",
        "inputs['input_ids'] = torch.cat([initial_prompt_ids.unsqueeze(0), inputs['input_ids']], dim=1).to(CONFIG.device) # Add batch dim to prompt ids\n",
        "inputs['attention_mask'] = torch.cat([torch.ones_like(initial_prompt_ids).unsqueeze(0), inputs['attention_mask']], dim=1).to(CONFIG.device)\n",
        "\n",
        "\n",
        "\n",
        "model.eval() # Set the model to evaluation mode. VERY IMPORTANT, it affects the output.\n",
        "\n",
        "generated_outputs = model.generate(\n",
        "    input_ids=inputs['input_ids'],\n",
        "    attention_mask=inputs['attention_mask'],\n",
        "    max_new_tokens=10  # Adjust max_new_tokens as needed\n",
        ")\n",
        "\n",
        "print(CONFIG.tokenizer.decode(generated_outputs[0], skip_special_tokens=True))"
      ],
      "metadata": {
        "id": "55L2uaf2Wj-u",
        "execution": {
          "iopub.status.busy": "2024-11-05T14:37:56.215596Z",
          "iopub.execute_input": "2024-11-05T14:37:56.215953Z",
          "iopub.status.idle": "2024-11-05T14:37:56.260848Z",
          "shell.execute_reply.started": "2024-11-05T14:37:56.215902Z",
          "shell.execute_reply": "2024-11-05T14:37:56.259901Z"
        },
        "trusted": true,
        "outputId": "f6d13a13-c332-454b-e24c-40013843328a"
      },
      "execution_count": null,
      "outputs": [
        {
          "name": "stdout",
          "text": "positive\n",
          "output_type": "stream"
        }
      ]
    },
    {
      "cell_type": "code",
      "source": [
        "review = '''\n",
        "the movie was bad\n",
        "'''\n",
        "inputs = CONFIG.tokenizer(\n",
        "    review,\n",
        "    truncation=True,\n",
        "    max_length=CONFIG.max_len - CONFIG.n_tokens,\n",
        "    padding='max_length',\n",
        "    return_tensors='pt',\n",
        ")\n",
        "\n",
        "# Keep the batch dimension\n",
        "inputs = {k: v.to(CONFIG.device) for k, v in inputs.items()}\n",
        "\n",
        "\n",
        "inputs['input_ids'] = torch.cat([initial_prompt_ids.unsqueeze(0), inputs['input_ids']], dim=1).to(CONFIG.device) # Add batch dim to prompt ids\n",
        "inputs['attention_mask'] = torch.cat([torch.ones_like(initial_prompt_ids).unsqueeze(0), inputs['attention_mask']], dim=1).to(CONFIG.device)\n",
        "\n",
        "\n",
        "\n",
        "model.eval() # Set the model to evaluation mode. VERY IMPORTANT, it affects the output.\n",
        "\n",
        "generated_outputs = model.generate(\n",
        "    input_ids=inputs['input_ids'],\n",
        "    attention_mask=inputs['attention_mask'],\n",
        "    max_new_tokens=10  # Adjust max_new_tokens as needed\n",
        ")\n",
        "\n",
        "print(CONFIG.tokenizer.decode(generated_outputs[0], skip_special_tokens=True))"
      ],
      "metadata": {
        "id": "EEitXYTyYNp7",
        "execution": {
          "iopub.status.busy": "2024-11-05T14:37:56.262349Z",
          "iopub.execute_input": "2024-11-05T14:37:56.262967Z",
          "iopub.status.idle": "2024-11-05T14:37:56.303904Z",
          "shell.execute_reply.started": "2024-11-05T14:37:56.262903Z",
          "shell.execute_reply": "2024-11-05T14:37:56.302973Z"
        },
        "trusted": true,
        "outputId": "279ebcfb-75aa-40b5-c817-77b206881752"
      },
      "execution_count": null,
      "outputs": [
        {
          "name": "stdout",
          "text": "negative\n",
          "output_type": "stream"
        }
      ]
    }
  ]
}